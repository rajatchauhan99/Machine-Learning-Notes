{
 "cells": [
  {
   "cell_type": "markdown",
   "id": "ace10b35",
   "metadata": {},
   "source": [
    "Gradient boosting for regression works by combining multiple decision trees to create a strong predictive model. Here's a step-by-step explanation of how it works:\n",
    "\n",
    "1. **Initialization**:\n",
    "   - The process starts with an initial prediction, often a simple one, like the mean of the target values for all training samples. This initial prediction is represented by the constant value.\n",
    "\n",
    "2. **Fitting Weak Learners**:\n",
    "   - In each iteration (or boosting round), a decision tree, referred to as a \"weak learner,\" is trained on the dataset.\n",
    "   - The decision tree is fit to the residuals of the current model. Residuals are the differences between the actual target values and the current predictions.\n",
    "   - The decision tree's goal is to model the patterns in the residuals, effectively capturing the errors made by the current model.\n",
    "\n",
    "3. **Weighted Additions**:\n",
    "   - The predictions of the newly trained decision tree are weighted and added to the current model. The weight is determined by a parameter (often called the \"learning rate\") that controls the step size in each iteration.\n",
    "   - The learning rate helps prevent overfitting and can be tuned to optimize performance.\n",
    "\n",
    "4. **Update Residuals**:\n",
    "   - The residuals for the entire dataset are updated using the predictions of the new decision tree. This effectively adjusts the target values to focus on the errors that were not captured by the current model.\n",
    "\n",
    "5. **Iteration**:\n",
    "   - The process is repeated for a fixed number of iterations (boosting rounds), or until a certain stopping criterion is met. In each iteration, a new decision tree is added to the ensemble, further refining the model's predictions.\n",
    "\n",
    "6. **Final Prediction**:\n",
    "   - The final prediction is obtained by summing the predictions of all the decision trees created during the boosting process. This ensemble of decision trees provides a much more accurate and flexible model for regression.\n",
    "\n",
    "7. **Hyperparameter Tuning**:\n",
    "   - Several hyperparameters can be tuned to optimize the performance of the gradient boosting model, including the learning rate, the depth of the decision trees, and the number of boosting rounds.\n",
    "\n",
    "The key idea behind gradient boosting for regression is that it minimizes a regression loss function (commonly mean squared error) by iteratively improving the model with each boosting round. By sequentially adding decision trees and focusing on the residuals of the previous model, gradient boosting can capture complex, non-linear relationships in the data and build a highly accurate regression model.\n",
    "\n",
    "This approach typically leads to strong predictive performance and is widely used in various applications where regression tasks are required. Popular libraries for gradient boosting include XGBoost, LightGBM, and scikit-learn's GradientBoostingRegressor."
   ]
  },
  {
   "cell_type": "markdown",
   "id": "d85cb524",
   "metadata": {},
   "source": [
    "Let us see all this steps"
   ]
  },
  {
   "cell_type": "markdown",
   "id": "06f4cb4a",
   "metadata": {},
   "source": [
    "# Making a regression dataset problem"
   ]
  },
  {
   "cell_type": "code",
   "execution_count": 1,
   "id": "f58c0b14",
   "metadata": {},
   "outputs": [],
   "source": [
    "import numpy as np"
   ]
  },
  {
   "cell_type": "code",
   "execution_count": 2,
   "id": "4f9d0ce2",
   "metadata": {},
   "outputs": [
    {
     "data": {
      "text/plain": [
       "array([-0.12545988,  0.45071431,  0.23199394,  0.09865848, -0.34398136,\n",
       "       -0.34400548, -0.44191639,  0.36617615,  0.10111501,  0.20807258,\n",
       "       -0.47941551,  0.46990985,  0.33244264, -0.28766089, -0.31817503,\n",
       "       -0.31659549, -0.19575776,  0.02475643, -0.06805498, -0.20877086,\n",
       "        0.11185289, -0.36050614, -0.20785535, -0.13363816, -0.04393002,\n",
       "        0.28517596, -0.30032622,  0.01423444,  0.09241457, -0.45354959,\n",
       "        0.10754485, -0.32947588, -0.43494841,  0.44888554,  0.46563203,\n",
       "        0.30839735, -0.19538623, -0.40232789,  0.18423303, -0.05984751,\n",
       "       -0.37796177, -0.00482309, -0.46561148,  0.4093204 , -0.24122002,\n",
       "        0.16252228, -0.18828892,  0.02006802,  0.04671028, -0.31514554,\n",
       "        0.46958463,  0.27513282,  0.43949894,  0.39482735,  0.09789998,\n",
       "        0.42187424, -0.4115075 , -0.30401714, -0.45477271, -0.17466967,\n",
       "       -0.11132271, -0.22865097,  0.32873751, -0.14324667, -0.21906549,\n",
       "        0.04269608, -0.35907578,  0.30219698, -0.42544936,  0.48688694,\n",
       "        0.27224477, -0.30128432, -0.49447788,  0.31546143,  0.20685734,\n",
       "        0.22900717,  0.27127035, -0.42595535, -0.14153427, -0.38413094,\n",
       "        0.36310343,  0.12329813, -0.16910198, -0.43644165, -0.18901768,\n",
       "       -0.17481668,  0.22960618,  0.13755747,  0.38721274, -0.02778507,\n",
       "       -0.38040575,  0.21324479,  0.26078505,  0.0612772 ,  0.27096718,\n",
       "       -0.0062044 ,  0.02273283, -0.07245898, -0.47458087, -0.39210857])"
      ]
     },
     "execution_count": 2,
     "metadata": {},
     "output_type": "execute_result"
    }
   ],
   "source": [
    "np.random.seed(42)\n",
    "X = np.random.rand(100) - 0.5\n",
    "X"
   ]
  },
  {
   "cell_type": "markdown",
   "id": "99e6ef0f",
   "metadata": {},
   "source": [
    " - Using a non-linear relation between the variables with some randomness"
   ]
  },
  {
   "cell_type": "code",
   "execution_count": 3,
   "id": "93fd84ae",
   "metadata": {},
   "outputs": [
    {
     "data": {
      "text/plain": [
       "array([ 5.15728987e-02,  5.94479790e-01,  1.66051606e-01, -7.01779562e-02,\n",
       "        3.43985933e-01,  3.72874939e-01,  6.59764984e-01,  3.76341398e-01,\n",
       "       -9.75194335e-03,  1.04794741e-01,  7.35287787e-01,  6.78883363e-01,\n",
       "        3.05066318e-01,  2.73909733e-01,  3.08559932e-01,  3.49130363e-01,\n",
       "        7.98606436e-02, -1.45444646e-02, -5.71096619e-03,  5.75800683e-02,\n",
       "        5.23392240e-02,  4.02946793e-01,  1.29867214e-01,  4.18481141e-02,\n",
       "       -6.49789982e-02,  2.22943721e-01,  2.53451786e-01, -3.95060058e-02,\n",
       "        1.75570720e-02,  6.37324227e-01,  1.29006981e-01,  3.34391950e-01,\n",
       "        5.80417870e-01,  6.00772381e-01,  5.54501010e-01,  2.84001079e-01,\n",
       "        1.17538848e-01,  6.08765289e-01,  9.22073759e-02,  2.58225391e-02,\n",
       "        4.26829699e-01, -5.83641153e-02,  7.07523289e-01,  5.40226226e-01,\n",
       "        2.14112889e-01,  3.37711060e-02,  1.76497872e-01, -6.88843767e-02,\n",
       "        3.58884053e-02,  4.07472924e-01,  6.12002352e-01,  1.98779325e-01,\n",
       "        5.84460527e-01,  4.42492127e-01, -4.87799540e-02,  5.37361759e-01,\n",
       "        4.54900077e-01,  3.00958881e-01,  5.74483445e-01,  1.69025200e-01,\n",
       "       -1.98442712e-03,  1.40740720e-01,  3.64880911e-01,  1.56124184e-05,\n",
       "        1.55342064e-01,  7.08260043e-02,  3.06432075e-01,  2.83200738e-01,\n",
       "        5.56015604e-01,  7.50267811e-01,  1.60504108e-01,  2.06293891e-01,\n",
       "        7.59622208e-01,  3.13396972e-01,  1.40894525e-01,  1.74655260e-01,\n",
       "        1.86761567e-01,  5.55926561e-01,  7.47494737e-02,  4.06952167e-01,\n",
       "        4.88821019e-01,  6.92989303e-02,  2.62212591e-02,  6.04271621e-01,\n",
       "        5.84489646e-02,  1.31036843e-01,  2.16086770e-01,  1.57320579e-02,\n",
       "        4.97969931e-01,  2.29550775e-02,  4.75228621e-01,  2.31259667e-01,\n",
       "        1.91757119e-01, -2.64221234e-02,  1.75793916e-01, -4.06750304e-02,\n",
       "       -2.30474088e-03,  3.28085108e-02,  6.89515556e-01,  5.02606562e-01])"
      ]
     },
     "execution_count": 3,
     "metadata": {},
     "output_type": "execute_result"
    }
   ],
   "source": [
    "y = 3*X**2 + 0.05*np.random.randn(100)\n",
    "y"
   ]
  },
  {
   "cell_type": "markdown",
   "id": "e8630e9f",
   "metadata": {},
   "source": [
    " - Let us make a dataframe to see what's going"
   ]
  },
  {
   "cell_type": "code",
   "execution_count": 4,
   "id": "9ec94108",
   "metadata": {},
   "outputs": [],
   "source": [
    "import pandas as pd"
   ]
  },
  {
   "cell_type": "code",
   "execution_count": 5,
   "id": "54b6dd6c",
   "metadata": {},
   "outputs": [],
   "source": [
    "df = pd.DataFrame()"
   ]
  },
  {
   "cell_type": "code",
   "execution_count": 6,
   "id": "6f452b75",
   "metadata": {},
   "outputs": [
    {
     "data": {
      "text/html": [
       "<div>\n",
       "<style scoped>\n",
       "    .dataframe tbody tr th:only-of-type {\n",
       "        vertical-align: middle;\n",
       "    }\n",
       "\n",
       "    .dataframe tbody tr th {\n",
       "        vertical-align: top;\n",
       "    }\n",
       "\n",
       "    .dataframe thead th {\n",
       "        text-align: right;\n",
       "    }\n",
       "</style>\n",
       "<table border=\"1\" class=\"dataframe\">\n",
       "  <thead>\n",
       "    <tr style=\"text-align: right;\">\n",
       "      <th></th>\n",
       "      <th>X</th>\n",
       "      <th>y</th>\n",
       "    </tr>\n",
       "  </thead>\n",
       "  <tbody>\n",
       "    <tr>\n",
       "      <th>0</th>\n",
       "      <td>-0.125460</td>\n",
       "      <td>0.051573</td>\n",
       "    </tr>\n",
       "    <tr>\n",
       "      <th>1</th>\n",
       "      <td>0.450714</td>\n",
       "      <td>0.594480</td>\n",
       "    </tr>\n",
       "    <tr>\n",
       "      <th>2</th>\n",
       "      <td>0.231994</td>\n",
       "      <td>0.166052</td>\n",
       "    </tr>\n",
       "    <tr>\n",
       "      <th>3</th>\n",
       "      <td>0.098658</td>\n",
       "      <td>-0.070178</td>\n",
       "    </tr>\n",
       "    <tr>\n",
       "      <th>4</th>\n",
       "      <td>-0.343981</td>\n",
       "      <td>0.343986</td>\n",
       "    </tr>\n",
       "    <tr>\n",
       "      <th>...</th>\n",
       "      <td>...</td>\n",
       "      <td>...</td>\n",
       "    </tr>\n",
       "    <tr>\n",
       "      <th>95</th>\n",
       "      <td>-0.006204</td>\n",
       "      <td>-0.040675</td>\n",
       "    </tr>\n",
       "    <tr>\n",
       "      <th>96</th>\n",
       "      <td>0.022733</td>\n",
       "      <td>-0.002305</td>\n",
       "    </tr>\n",
       "    <tr>\n",
       "      <th>97</th>\n",
       "      <td>-0.072459</td>\n",
       "      <td>0.032809</td>\n",
       "    </tr>\n",
       "    <tr>\n",
       "      <th>98</th>\n",
       "      <td>-0.474581</td>\n",
       "      <td>0.689516</td>\n",
       "    </tr>\n",
       "    <tr>\n",
       "      <th>99</th>\n",
       "      <td>-0.392109</td>\n",
       "      <td>0.502607</td>\n",
       "    </tr>\n",
       "  </tbody>\n",
       "</table>\n",
       "<p>100 rows × 2 columns</p>\n",
       "</div>"
      ],
      "text/plain": [
       "           X         y\n",
       "0  -0.125460  0.051573\n",
       "1   0.450714  0.594480\n",
       "2   0.231994  0.166052\n",
       "3   0.098658 -0.070178\n",
       "4  -0.343981  0.343986\n",
       "..       ...       ...\n",
       "95 -0.006204 -0.040675\n",
       "96  0.022733 -0.002305\n",
       "97 -0.072459  0.032809\n",
       "98 -0.474581  0.689516\n",
       "99 -0.392109  0.502607\n",
       "\n",
       "[100 rows x 2 columns]"
      ]
     },
     "execution_count": 6,
     "metadata": {},
     "output_type": "execute_result"
    }
   ],
   "source": [
    "df[\"X\"] = X\n",
    "df[\"y\"] = y\n",
    "df"
   ]
  },
  {
   "cell_type": "markdown",
   "id": "1bd78ef0",
   "metadata": {},
   "source": [
    " - So, we are using a parabolic relation between the variables with some randomness.\n",
    "\n",
    "   Let us see the scatter plot, how things look:"
   ]
  },
  {
   "cell_type": "code",
   "execution_count": 7,
   "id": "1a4a0445",
   "metadata": {},
   "outputs": [],
   "source": [
    "import matplotlib.pyplot as plt"
   ]
  },
  {
   "cell_type": "code",
   "execution_count": 8,
   "id": "e6216dca",
   "metadata": {},
   "outputs": [
    {
     "data": {
      "text/plain": [
       "Text(0.5, 1.0, 'X vs Y')"
      ]
     },
     "execution_count": 8,
     "metadata": {},
     "output_type": "execute_result"
    },
    {
     "data": {
      "image/png": "[encoded data removed]",
      "text/plain": [
       "<Figure size 432x288 with 1 Axes>"
      ]
     },
     "metadata": {
      "needs_background": "light"
     },
     "output_type": "display_data"
    }
   ],
   "source": [
    "plt.scatter(X,y)\n",
    "plt.title(\"X vs Y\")"
   ]
  },
  {
   "cell_type": "markdown",
   "id": "2cc4e3dd",
   "metadata": {},
   "source": [
    "1. **Initialization**:\n",
    "   - The process starts with an initial prediction, often a simple one, like the mean of the target values for all training samples. This initial prediction is represented by the constant value.\n"
   ]
  },
  {
   "cell_type": "code",
   "execution_count": 9,
   "id": "6a4022b1",
   "metadata": {},
   "outputs": [
    {
     "data": {
      "text/html": [
       "<div>\n",
       "<style scoped>\n",
       "    .dataframe tbody tr th:only-of-type {\n",
       "        vertical-align: middle;\n",
       "    }\n",
       "\n",
       "    .dataframe tbody tr th {\n",
       "        vertical-align: top;\n",
       "    }\n",
       "\n",
       "    .dataframe thead th {\n",
       "        text-align: right;\n",
       "    }\n",
       "</style>\n",
       "<table border=\"1\" class=\"dataframe\">\n",
       "  <thead>\n",
       "    <tr style=\"text-align: right;\">\n",
       "      <th></th>\n",
       "      <th>X</th>\n",
       "      <th>y</th>\n",
       "      <th>pred1</th>\n",
       "    </tr>\n",
       "  </thead>\n",
       "  <tbody>\n",
       "    <tr>\n",
       "      <th>0</th>\n",
       "      <td>-0.125460</td>\n",
       "      <td>0.051573</td>\n",
       "      <td>0.265458</td>\n",
       "    </tr>\n",
       "    <tr>\n",
       "      <th>1</th>\n",
       "      <td>0.450714</td>\n",
       "      <td>0.594480</td>\n",
       "      <td>0.265458</td>\n",
       "    </tr>\n",
       "    <tr>\n",
       "      <th>2</th>\n",
       "      <td>0.231994</td>\n",
       "      <td>0.166052</td>\n",
       "      <td>0.265458</td>\n",
       "    </tr>\n",
       "    <tr>\n",
       "      <th>3</th>\n",
       "      <td>0.098658</td>\n",
       "      <td>-0.070178</td>\n",
       "      <td>0.265458</td>\n",
       "    </tr>\n",
       "    <tr>\n",
       "      <th>4</th>\n",
       "      <td>-0.343981</td>\n",
       "      <td>0.343986</td>\n",
       "      <td>0.265458</td>\n",
       "    </tr>\n",
       "    <tr>\n",
       "      <th>...</th>\n",
       "      <td>...</td>\n",
       "      <td>...</td>\n",
       "      <td>...</td>\n",
       "    </tr>\n",
       "    <tr>\n",
       "      <th>95</th>\n",
       "      <td>-0.006204</td>\n",
       "      <td>-0.040675</td>\n",
       "      <td>0.265458</td>\n",
       "    </tr>\n",
       "    <tr>\n",
       "      <th>96</th>\n",
       "      <td>0.022733</td>\n",
       "      <td>-0.002305</td>\n",
       "      <td>0.265458</td>\n",
       "    </tr>\n",
       "    <tr>\n",
       "      <th>97</th>\n",
       "      <td>-0.072459</td>\n",
       "      <td>0.032809</td>\n",
       "      <td>0.265458</td>\n",
       "    </tr>\n",
       "    <tr>\n",
       "      <th>98</th>\n",
       "      <td>-0.474581</td>\n",
       "      <td>0.689516</td>\n",
       "      <td>0.265458</td>\n",
       "    </tr>\n",
       "    <tr>\n",
       "      <th>99</th>\n",
       "      <td>-0.392109</td>\n",
       "      <td>0.502607</td>\n",
       "      <td>0.265458</td>\n",
       "    </tr>\n",
       "  </tbody>\n",
       "</table>\n",
       "<p>100 rows × 3 columns</p>\n",
       "</div>"
      ],
      "text/plain": [
       "           X         y     pred1\n",
       "0  -0.125460  0.051573  0.265458\n",
       "1   0.450714  0.594480  0.265458\n",
       "2   0.231994  0.166052  0.265458\n",
       "3   0.098658 -0.070178  0.265458\n",
       "4  -0.343981  0.343986  0.265458\n",
       "..       ...       ...       ...\n",
       "95 -0.006204 -0.040675  0.265458\n",
       "96  0.022733 -0.002305  0.265458\n",
       "97 -0.072459  0.032809  0.265458\n",
       "98 -0.474581  0.689516  0.265458\n",
       "99 -0.392109  0.502607  0.265458\n",
       "\n",
       "[100 rows x 3 columns]"
      ]
     },
     "execution_count": 9,
     "metadata": {},
     "output_type": "execute_result"
    }
   ],
   "source": [
    "df['pred1'] = df['y'].mean()\n",
    "df"
   ]
  },
  {
   "cell_type": "markdown",
   "id": "3a0f258f",
   "metadata": {},
   "source": [
    " - Calculating residuals based on the first predictions "
   ]
  },
  {
   "cell_type": "code",
   "execution_count": 10,
   "id": "1f4e2672",
   "metadata": {},
   "outputs": [
    {
     "data": {
      "text/html": [
       "<div>\n",
       "<style scoped>\n",
       "    .dataframe tbody tr th:only-of-type {\n",
       "        vertical-align: middle;\n",
       "    }\n",
       "\n",
       "    .dataframe tbody tr th {\n",
       "        vertical-align: top;\n",
       "    }\n",
       "\n",
       "    .dataframe thead th {\n",
       "        text-align: right;\n",
       "    }\n",
       "</style>\n",
       "<table border=\"1\" class=\"dataframe\">\n",
       "  <thead>\n",
       "    <tr style=\"text-align: right;\">\n",
       "      <th></th>\n",
       "      <th>X</th>\n",
       "      <th>y</th>\n",
       "      <th>pred1</th>\n",
       "      <th>res1</th>\n",
       "    </tr>\n",
       "  </thead>\n",
       "  <tbody>\n",
       "    <tr>\n",
       "      <th>0</th>\n",
       "      <td>-0.125460</td>\n",
       "      <td>0.051573</td>\n",
       "      <td>0.265458</td>\n",
       "      <td>-0.213885</td>\n",
       "    </tr>\n",
       "    <tr>\n",
       "      <th>1</th>\n",
       "      <td>0.450714</td>\n",
       "      <td>0.594480</td>\n",
       "      <td>0.265458</td>\n",
       "      <td>0.329021</td>\n",
       "    </tr>\n",
       "    <tr>\n",
       "      <th>2</th>\n",
       "      <td>0.231994</td>\n",
       "      <td>0.166052</td>\n",
       "      <td>0.265458</td>\n",
       "      <td>-0.099407</td>\n",
       "    </tr>\n",
       "    <tr>\n",
       "      <th>3</th>\n",
       "      <td>0.098658</td>\n",
       "      <td>-0.070178</td>\n",
       "      <td>0.265458</td>\n",
       "      <td>-0.335636</td>\n",
       "    </tr>\n",
       "    <tr>\n",
       "      <th>4</th>\n",
       "      <td>-0.343981</td>\n",
       "      <td>0.343986</td>\n",
       "      <td>0.265458</td>\n",
       "      <td>0.078528</td>\n",
       "    </tr>\n",
       "    <tr>\n",
       "      <th>...</th>\n",
       "      <td>...</td>\n",
       "      <td>...</td>\n",
       "      <td>...</td>\n",
       "      <td>...</td>\n",
       "    </tr>\n",
       "    <tr>\n",
       "      <th>95</th>\n",
       "      <td>-0.006204</td>\n",
       "      <td>-0.040675</td>\n",
       "      <td>0.265458</td>\n",
       "      <td>-0.306133</td>\n",
       "    </tr>\n",
       "    <tr>\n",
       "      <th>96</th>\n",
       "      <td>0.022733</td>\n",
       "      <td>-0.002305</td>\n",
       "      <td>0.265458</td>\n",
       "      <td>-0.267763</td>\n",
       "    </tr>\n",
       "    <tr>\n",
       "      <th>97</th>\n",
       "      <td>-0.072459</td>\n",
       "      <td>0.032809</td>\n",
       "      <td>0.265458</td>\n",
       "      <td>-0.232650</td>\n",
       "    </tr>\n",
       "    <tr>\n",
       "      <th>98</th>\n",
       "      <td>-0.474581</td>\n",
       "      <td>0.689516</td>\n",
       "      <td>0.265458</td>\n",
       "      <td>0.424057</td>\n",
       "    </tr>\n",
       "    <tr>\n",
       "      <th>99</th>\n",
       "      <td>-0.392109</td>\n",
       "      <td>0.502607</td>\n",
       "      <td>0.265458</td>\n",
       "      <td>0.237148</td>\n",
       "    </tr>\n",
       "  </tbody>\n",
       "</table>\n",
       "<p>100 rows × 4 columns</p>\n",
       "</div>"
      ],
      "text/plain": [
       "           X         y     pred1      res1\n",
       "0  -0.125460  0.051573  0.265458 -0.213885\n",
       "1   0.450714  0.594480  0.265458  0.329021\n",
       "2   0.231994  0.166052  0.265458 -0.099407\n",
       "3   0.098658 -0.070178  0.265458 -0.335636\n",
       "4  -0.343981  0.343986  0.265458  0.078528\n",
       "..       ...       ...       ...       ...\n",
       "95 -0.006204 -0.040675  0.265458 -0.306133\n",
       "96  0.022733 -0.002305  0.265458 -0.267763\n",
       "97 -0.072459  0.032809  0.265458 -0.232650\n",
       "98 -0.474581  0.689516  0.265458  0.424057\n",
       "99 -0.392109  0.502607  0.265458  0.237148\n",
       "\n",
       "[100 rows x 4 columns]"
      ]
     },
     "execution_count": 10,
     "metadata": {},
     "output_type": "execute_result"
    }
   ],
   "source": [
    "df['res1'] = df['y'] - df['pred1']\n",
    "df"
   ]
  },
  {
   "cell_type": "markdown",
   "id": "7b77498b",
   "metadata": {},
   "source": [
    " - Plot to see how the first model ( which is simply the mean value ) performs"
   ]
  },
  {
   "cell_type": "code",
   "execution_count": 11,
   "id": "dbdcfbf6",
   "metadata": {},
   "outputs": [
    {
     "data": {
      "text/plain": [
       "[<matplotlib.lines.Line2D at 0x7f96880ccca0>]"
      ]
     },
     "execution_count": 11,
     "metadata": {},
     "output_type": "execute_result"
    },
    {
     "data": {
      "image/png": "[encoded data removed]",
      "text/plain": [
       "<Figure size 432x288 with 1 Axes>"
      ]
     },
     "metadata": {
      "needs_background": "light"
     },
     "output_type": "display_data"
    }
   ],
   "source": [
    "plt.scatter(df['X'],df['y'])\n",
    "plt.plot(df['X'],df['pred1'],color='red')"
   ]
  },
  {
   "cell_type": "markdown",
   "id": "4cbc7d30",
   "metadata": {},
   "source": [
    "2. **Fitting Weak Learners**:\n",
    "   - In each iteration (or boosting round), a decision tree, referred to as a \"weak learner,\" is trained on the dataset.\n",
    "   - The decision tree is fit to the residuals of the current model. Residuals are the differences between the actual target values and the current predictions.\n",
    "   - The decision tree's goal is to model the patterns in the residuals, effectively capturing the errors made by the current model."
   ]
  },
  {
   "cell_type": "code",
   "execution_count": 12,
   "id": "6b464dce",
   "metadata": {},
   "outputs": [
    {
     "data": {
      "text/html": [
       "<div>\n",
       "<style scoped>\n",
       "    .dataframe tbody tr th:only-of-type {\n",
       "        vertical-align: middle;\n",
       "    }\n",
       "\n",
       "    .dataframe tbody tr th {\n",
       "        vertical-align: top;\n",
       "    }\n",
       "\n",
       "    .dataframe thead th {\n",
       "        text-align: right;\n",
       "    }\n",
       "</style>\n",
       "<table border=\"1\" class=\"dataframe\">\n",
       "  <thead>\n",
       "    <tr style=\"text-align: right;\">\n",
       "      <th></th>\n",
       "      <th>X</th>\n",
       "      <th>y</th>\n",
       "      <th>pred1</th>\n",
       "      <th>res1</th>\n",
       "    </tr>\n",
       "  </thead>\n",
       "  <tbody>\n",
       "    <tr>\n",
       "      <th>0</th>\n",
       "      <td>-0.125460</td>\n",
       "      <td>0.051573</td>\n",
       "      <td>0.265458</td>\n",
       "      <td>-0.213885</td>\n",
       "    </tr>\n",
       "    <tr>\n",
       "      <th>1</th>\n",
       "      <td>0.450714</td>\n",
       "      <td>0.594480</td>\n",
       "      <td>0.265458</td>\n",
       "      <td>0.329021</td>\n",
       "    </tr>\n",
       "    <tr>\n",
       "      <th>2</th>\n",
       "      <td>0.231994</td>\n",
       "      <td>0.166052</td>\n",
       "      <td>0.265458</td>\n",
       "      <td>-0.099407</td>\n",
       "    </tr>\n",
       "    <tr>\n",
       "      <th>3</th>\n",
       "      <td>0.098658</td>\n",
       "      <td>-0.070178</td>\n",
       "      <td>0.265458</td>\n",
       "      <td>-0.335636</td>\n",
       "    </tr>\n",
       "    <tr>\n",
       "      <th>4</th>\n",
       "      <td>-0.343981</td>\n",
       "      <td>0.343986</td>\n",
       "      <td>0.265458</td>\n",
       "      <td>0.078528</td>\n",
       "    </tr>\n",
       "    <tr>\n",
       "      <th>...</th>\n",
       "      <td>...</td>\n",
       "      <td>...</td>\n",
       "      <td>...</td>\n",
       "      <td>...</td>\n",
       "    </tr>\n",
       "    <tr>\n",
       "      <th>95</th>\n",
       "      <td>-0.006204</td>\n",
       "      <td>-0.040675</td>\n",
       "      <td>0.265458</td>\n",
       "      <td>-0.306133</td>\n",
       "    </tr>\n",
       "    <tr>\n",
       "      <th>96</th>\n",
       "      <td>0.022733</td>\n",
       "      <td>-0.002305</td>\n",
       "      <td>0.265458</td>\n",
       "      <td>-0.267763</td>\n",
       "    </tr>\n",
       "    <tr>\n",
       "      <th>97</th>\n",
       "      <td>-0.072459</td>\n",
       "      <td>0.032809</td>\n",
       "      <td>0.265458</td>\n",
       "      <td>-0.232650</td>\n",
       "    </tr>\n",
       "    <tr>\n",
       "      <th>98</th>\n",
       "      <td>-0.474581</td>\n",
       "      <td>0.689516</td>\n",
       "      <td>0.265458</td>\n",
       "      <td>0.424057</td>\n",
       "    </tr>\n",
       "    <tr>\n",
       "      <th>99</th>\n",
       "      <td>-0.392109</td>\n",
       "      <td>0.502607</td>\n",
       "      <td>0.265458</td>\n",
       "      <td>0.237148</td>\n",
       "    </tr>\n",
       "  </tbody>\n",
       "</table>\n",
       "<p>100 rows × 4 columns</p>\n",
       "</div>"
      ],
      "text/plain": [
       "           X         y     pred1      res1\n",
       "0  -0.125460  0.051573  0.265458 -0.213885\n",
       "1   0.450714  0.594480  0.265458  0.329021\n",
       "2   0.231994  0.166052  0.265458 -0.099407\n",
       "3   0.098658 -0.070178  0.265458 -0.335636\n",
       "4  -0.343981  0.343986  0.265458  0.078528\n",
       "..       ...       ...       ...       ...\n",
       "95 -0.006204 -0.040675  0.265458 -0.306133\n",
       "96  0.022733 -0.002305  0.265458 -0.267763\n",
       "97 -0.072459  0.032809  0.265458 -0.232650\n",
       "98 -0.474581  0.689516  0.265458  0.424057\n",
       "99 -0.392109  0.502607  0.265458  0.237148\n",
       "\n",
       "[100 rows x 4 columns]"
      ]
     },
     "execution_count": 12,
     "metadata": {},
     "output_type": "execute_result"
    }
   ],
   "source": [
    "df"
   ]
  },
  {
   "cell_type": "markdown",
   "id": "680cb52c",
   "metadata": {},
   "source": [
    " - Training first decision tree on the residuals of the previous model"
   ]
  },
  {
   "cell_type": "code",
   "execution_count": 13,
   "id": "0787e75b",
   "metadata": {},
   "outputs": [
    {
     "data": {
      "text/plain": [
       "DecisionTreeRegressor(max_leaf_nodes=8)"
      ]
     },
     "execution_count": 13,
     "metadata": {},
     "output_type": "execute_result"
    }
   ],
   "source": [
    "from sklearn.tree import DecisionTreeRegressor\n",
    "tree1 = DecisionTreeRegressor(max_leaf_nodes=8)\n",
    "tree1.fit(df['X'].values.reshape(100,1),df['res1'].values)"
   ]
  },
  {
   "cell_type": "markdown",
   "id": "faef3c01",
   "metadata": {},
   "source": [
    " - So job of this decision tree is to predict the residuals of the previous model.\n",
    "   Let us see its tree plot"
   ]
  },
  {
   "cell_type": "code",
   "execution_count": 14,
   "id": "1bf9f972",
   "metadata": {},
   "outputs": [
    {
     "data": {
      "image/png": "[encoded data removed]",
      "text/plain": [
       "<Figure size 1440x720 with 1 Axes>"
      ]
     },
     "metadata": {
      "needs_background": "light"
     },
     "output_type": "display_data"
    }
   ],
   "source": [
    "from sklearn.tree import plot_tree\n",
    "plt.figure(figsize=(20, 10))\n",
    "plot_tree(tree1)\n",
    "plt.show()"
   ]
  },
  {
   "cell_type": "markdown",
   "id": "9751efa5",
   "metadata": {},
   "source": [
    "3. **Weighted Additions**:\n",
    "   - The predictions of the newly trained decision tree are weighted and added to the current model. The weight is determined by a parameter (often called the \"learning rate\") that controls the step size in each iteration.\n",
    "   - The learning rate helps prevent overfitting and can be tuned to optimize performance."
   ]
  },
  {
   "cell_type": "markdown",
   "id": "c4f0f94b",
   "metadata": {},
   "source": [
    " - Let us first visually see how well this tree predicts the results"
   ]
  },
  {
   "cell_type": "markdown",
   "id": "0f32b8e7",
   "metadata": {},
   "source": [
    "Generating X_test"
   ]
  },
  {
   "cell_type": "code",
   "execution_count": 15,
   "id": "8b198cb5",
   "metadata": {},
   "outputs": [],
   "source": [
    "X_test = np.linspace(-0.5, 0.5, 500)"
   ]
  },
  {
   "cell_type": "markdown",
   "id": "cd154e2c",
   "metadata": {},
   "source": [
    "Let us see this tree prediction on this X_test"
   ]
  },
  {
   "cell_type": "code",
   "execution_count": 16,
   "id": "5d7a2643",
   "metadata": {},
   "outputs": [
    {
     "data": {
      "text/plain": [
       "<matplotlib.collections.PathCollection at 0x7f9688112550>"
      ]
     },
     "execution_count": 16,
     "metadata": {},
     "output_type": "execute_result"
    },
    {
     "data": {
      "image/png": "[encoded data removed]",
      "text/plain": [
       "<Figure size 1008x288 with 1 Axes>"
      ]
     },
     "metadata": {
      "needs_background": "light"
     },
     "output_type": "display_data"
    }
   ],
   "source": [
    "y_pred = df['y'].mean() + tree1.predict(X_test.reshape(500, 1))\n",
    "plt.figure(figsize=(14,4))\n",
    "plt.subplot(121)\n",
    "plt.plot(X_test, y_pred, linewidth=2,color='red')\n",
    "plt.scatter(df['X'],df['y'])"
   ]
  },
  {
   "cell_type": "markdown",
   "id": "977f87ec",
   "metadata": {},
   "source": [
    "We see, even the first model is able to capture the curve somewhat"
   ]
  },
  {
   "cell_type": "markdown",
   "id": "36583f87",
   "metadata": {},
   "source": [
    " - Adding pred2 column now (Considering learning rate as 1 only as of now)"
   ]
  },
  {
   "cell_type": "code",
   "execution_count": 17,
   "id": "e33c840d",
   "metadata": {},
   "outputs": [
    {
     "data": {
      "text/html": [
       "<div>\n",
       "<style scoped>\n",
       "    .dataframe tbody tr th:only-of-type {\n",
       "        vertical-align: middle;\n",
       "    }\n",
       "\n",
       "    .dataframe tbody tr th {\n",
       "        vertical-align: top;\n",
       "    }\n",
       "\n",
       "    .dataframe thead th {\n",
       "        text-align: right;\n",
       "    }\n",
       "</style>\n",
       "<table border=\"1\" class=\"dataframe\">\n",
       "  <thead>\n",
       "    <tr style=\"text-align: right;\">\n",
       "      <th></th>\n",
       "      <th>X</th>\n",
       "      <th>y</th>\n",
       "      <th>pred1</th>\n",
       "      <th>res1</th>\n",
       "      <th>pred2</th>\n",
       "    </tr>\n",
       "  </thead>\n",
       "  <tbody>\n",
       "    <tr>\n",
       "      <th>0</th>\n",
       "      <td>-0.125460</td>\n",
       "      <td>0.051573</td>\n",
       "      <td>0.265458</td>\n",
       "      <td>-0.213885</td>\n",
       "      <td>0.018320</td>\n",
       "    </tr>\n",
       "    <tr>\n",
       "      <th>1</th>\n",
       "      <td>0.450714</td>\n",
       "      <td>0.594480</td>\n",
       "      <td>0.265458</td>\n",
       "      <td>0.329021</td>\n",
       "      <td>0.605884</td>\n",
       "    </tr>\n",
       "    <tr>\n",
       "      <th>2</th>\n",
       "      <td>0.231994</td>\n",
       "      <td>0.166052</td>\n",
       "      <td>0.265458</td>\n",
       "      <td>-0.099407</td>\n",
       "      <td>0.215784</td>\n",
       "    </tr>\n",
       "    <tr>\n",
       "      <th>3</th>\n",
       "      <td>0.098658</td>\n",
       "      <td>-0.070178</td>\n",
       "      <td>0.265458</td>\n",
       "      <td>-0.335636</td>\n",
       "      <td>0.018320</td>\n",
       "    </tr>\n",
       "    <tr>\n",
       "      <th>4</th>\n",
       "      <td>-0.343981</td>\n",
       "      <td>0.343986</td>\n",
       "      <td>0.265458</td>\n",
       "      <td>0.078528</td>\n",
       "      <td>0.305965</td>\n",
       "    </tr>\n",
       "    <tr>\n",
       "      <th>...</th>\n",
       "      <td>...</td>\n",
       "      <td>...</td>\n",
       "      <td>...</td>\n",
       "      <td>...</td>\n",
       "      <td>...</td>\n",
       "    </tr>\n",
       "    <tr>\n",
       "      <th>95</th>\n",
       "      <td>-0.006204</td>\n",
       "      <td>-0.040675</td>\n",
       "      <td>0.265458</td>\n",
       "      <td>-0.306133</td>\n",
       "      <td>0.018320</td>\n",
       "    </tr>\n",
       "    <tr>\n",
       "      <th>96</th>\n",
       "      <td>0.022733</td>\n",
       "      <td>-0.002305</td>\n",
       "      <td>0.265458</td>\n",
       "      <td>-0.267763</td>\n",
       "      <td>0.018320</td>\n",
       "    </tr>\n",
       "    <tr>\n",
       "      <th>97</th>\n",
       "      <td>-0.072459</td>\n",
       "      <td>0.032809</td>\n",
       "      <td>0.265458</td>\n",
       "      <td>-0.232650</td>\n",
       "      <td>0.018320</td>\n",
       "    </tr>\n",
       "    <tr>\n",
       "      <th>98</th>\n",
       "      <td>-0.474581</td>\n",
       "      <td>0.689516</td>\n",
       "      <td>0.265458</td>\n",
       "      <td>0.424057</td>\n",
       "      <td>0.660912</td>\n",
       "    </tr>\n",
       "    <tr>\n",
       "      <th>99</th>\n",
       "      <td>-0.392109</td>\n",
       "      <td>0.502607</td>\n",
       "      <td>0.265458</td>\n",
       "      <td>0.237148</td>\n",
       "      <td>0.487797</td>\n",
       "    </tr>\n",
       "  </tbody>\n",
       "</table>\n",
       "<p>100 rows × 5 columns</p>\n",
       "</div>"
      ],
      "text/plain": [
       "           X         y     pred1      res1     pred2\n",
       "0  -0.125460  0.051573  0.265458 -0.213885  0.018320\n",
       "1   0.450714  0.594480  0.265458  0.329021  0.605884\n",
       "2   0.231994  0.166052  0.265458 -0.099407  0.215784\n",
       "3   0.098658 -0.070178  0.265458 -0.335636  0.018320\n",
       "4  -0.343981  0.343986  0.265458  0.078528  0.305965\n",
       "..       ...       ...       ...       ...       ...\n",
       "95 -0.006204 -0.040675  0.265458 -0.306133  0.018320\n",
       "96  0.022733 -0.002305  0.265458 -0.267763  0.018320\n",
       "97 -0.072459  0.032809  0.265458 -0.232650  0.018320\n",
       "98 -0.474581  0.689516  0.265458  0.424057  0.660912\n",
       "99 -0.392109  0.502607  0.265458  0.237148  0.487797\n",
       "\n",
       "[100 rows x 5 columns]"
      ]
     },
     "execution_count": 17,
     "metadata": {},
     "output_type": "execute_result"
    }
   ],
   "source": [
    "df['pred2'] = df['y'].mean() + tree1.predict(df['X'].values.reshape(100,1))   \n",
    "df"
   ]
  },
  {
   "cell_type": "markdown",
   "id": "2792a411",
   "metadata": {},
   "source": [
    "\n",
    "4. **Update Residuals**:\n",
    "   - The residuals for the entire dataset are updated using the predictions of the new decision tree. This effectively adjusts the target values to focus on the errors that were not captured by the current model."
   ]
  },
  {
   "cell_type": "code",
   "execution_count": 18,
   "id": "5209ad8c",
   "metadata": {},
   "outputs": [
    {
     "data": {
      "text/html": [
       "<div>\n",
       "<style scoped>\n",
       "    .dataframe tbody tr th:only-of-type {\n",
       "        vertical-align: middle;\n",
       "    }\n",
       "\n",
       "    .dataframe tbody tr th {\n",
       "        vertical-align: top;\n",
       "    }\n",
       "\n",
       "    .dataframe thead th {\n",
       "        text-align: right;\n",
       "    }\n",
       "</style>\n",
       "<table border=\"1\" class=\"dataframe\">\n",
       "  <thead>\n",
       "    <tr style=\"text-align: right;\">\n",
       "      <th></th>\n",
       "      <th>X</th>\n",
       "      <th>y</th>\n",
       "      <th>pred1</th>\n",
       "      <th>res1</th>\n",
       "      <th>pred2</th>\n",
       "      <th>res2</th>\n",
       "    </tr>\n",
       "  </thead>\n",
       "  <tbody>\n",
       "    <tr>\n",
       "      <th>0</th>\n",
       "      <td>-0.125460</td>\n",
       "      <td>0.051573</td>\n",
       "      <td>0.265458</td>\n",
       "      <td>-0.213885</td>\n",
       "      <td>0.018320</td>\n",
       "      <td>0.033253</td>\n",
       "    </tr>\n",
       "    <tr>\n",
       "      <th>1</th>\n",
       "      <td>0.450714</td>\n",
       "      <td>0.594480</td>\n",
       "      <td>0.265458</td>\n",
       "      <td>0.329021</td>\n",
       "      <td>0.605884</td>\n",
       "      <td>-0.011404</td>\n",
       "    </tr>\n",
       "    <tr>\n",
       "      <th>2</th>\n",
       "      <td>0.231994</td>\n",
       "      <td>0.166052</td>\n",
       "      <td>0.265458</td>\n",
       "      <td>-0.099407</td>\n",
       "      <td>0.215784</td>\n",
       "      <td>-0.049732</td>\n",
       "    </tr>\n",
       "    <tr>\n",
       "      <th>3</th>\n",
       "      <td>0.098658</td>\n",
       "      <td>-0.070178</td>\n",
       "      <td>0.265458</td>\n",
       "      <td>-0.335636</td>\n",
       "      <td>0.018320</td>\n",
       "      <td>-0.088497</td>\n",
       "    </tr>\n",
       "    <tr>\n",
       "      <th>4</th>\n",
       "      <td>-0.343981</td>\n",
       "      <td>0.343986</td>\n",
       "      <td>0.265458</td>\n",
       "      <td>0.078528</td>\n",
       "      <td>0.305965</td>\n",
       "      <td>0.038021</td>\n",
       "    </tr>\n",
       "    <tr>\n",
       "      <th>...</th>\n",
       "      <td>...</td>\n",
       "      <td>...</td>\n",
       "      <td>...</td>\n",
       "      <td>...</td>\n",
       "      <td>...</td>\n",
       "      <td>...</td>\n",
       "    </tr>\n",
       "    <tr>\n",
       "      <th>95</th>\n",
       "      <td>-0.006204</td>\n",
       "      <td>-0.040675</td>\n",
       "      <td>0.265458</td>\n",
       "      <td>-0.306133</td>\n",
       "      <td>0.018320</td>\n",
       "      <td>-0.058995</td>\n",
       "    </tr>\n",
       "    <tr>\n",
       "      <th>96</th>\n",
       "      <td>0.022733</td>\n",
       "      <td>-0.002305</td>\n",
       "      <td>0.265458</td>\n",
       "      <td>-0.267763</td>\n",
       "      <td>0.018320</td>\n",
       "      <td>-0.020624</td>\n",
       "    </tr>\n",
       "    <tr>\n",
       "      <th>97</th>\n",
       "      <td>-0.072459</td>\n",
       "      <td>0.032809</td>\n",
       "      <td>0.265458</td>\n",
       "      <td>-0.232650</td>\n",
       "      <td>0.018320</td>\n",
       "      <td>0.014489</td>\n",
       "    </tr>\n",
       "    <tr>\n",
       "      <th>98</th>\n",
       "      <td>-0.474581</td>\n",
       "      <td>0.689516</td>\n",
       "      <td>0.265458</td>\n",
       "      <td>0.424057</td>\n",
       "      <td>0.660912</td>\n",
       "      <td>0.028603</td>\n",
       "    </tr>\n",
       "    <tr>\n",
       "      <th>99</th>\n",
       "      <td>-0.392109</td>\n",
       "      <td>0.502607</td>\n",
       "      <td>0.265458</td>\n",
       "      <td>0.237148</td>\n",
       "      <td>0.487797</td>\n",
       "      <td>0.014810</td>\n",
       "    </tr>\n",
       "  </tbody>\n",
       "</table>\n",
       "<p>100 rows × 6 columns</p>\n",
       "</div>"
      ],
      "text/plain": [
       "           X         y     pred1      res1     pred2      res2\n",
       "0  -0.125460  0.051573  0.265458 -0.213885  0.018320  0.033253\n",
       "1   0.450714  0.594480  0.265458  0.329021  0.605884 -0.011404\n",
       "2   0.231994  0.166052  0.265458 -0.099407  0.215784 -0.049732\n",
       "3   0.098658 -0.070178  0.265458 -0.335636  0.018320 -0.088497\n",
       "4  -0.343981  0.343986  0.265458  0.078528  0.305965  0.038021\n",
       "..       ...       ...       ...       ...       ...       ...\n",
       "95 -0.006204 -0.040675  0.265458 -0.306133  0.018320 -0.058995\n",
       "96  0.022733 -0.002305  0.265458 -0.267763  0.018320 -0.020624\n",
       "97 -0.072459  0.032809  0.265458 -0.232650  0.018320  0.014489\n",
       "98 -0.474581  0.689516  0.265458  0.424057  0.660912  0.028603\n",
       "99 -0.392109  0.502607  0.265458  0.237148  0.487797  0.014810\n",
       "\n",
       "[100 rows x 6 columns]"
      ]
     },
     "execution_count": 18,
     "metadata": {},
     "output_type": "execute_result"
    }
   ],
   "source": [
    "df['res2'] = df['y'] - df['pred2']\n",
    "df"
   ]
  },
  {
   "cell_type": "markdown",
   "id": "feb621ad",
   "metadata": {},
   "source": [
    "5. **Iteration**:\n",
    "   - The process is repeated for a fixed number of iterations (boosting rounds), or until a certain stopping criterion is met. In each iteration, a new decision tree is added to the ensemble, further refining the model's predictions.\n"
   ]
  },
  {
   "cell_type": "markdown",
   "id": "c3dc8e3b",
   "metadata": {},
   "source": [
    "Second decision tree is trained on the residuals of the previous model"
   ]
  },
  {
   "cell_type": "code",
   "execution_count": 19,
   "id": "52f9110e",
   "metadata": {},
   "outputs": [
    {
     "data": {
      "text/plain": [
       "DecisionTreeRegressor(max_leaf_nodes=8)"
      ]
     },
     "execution_count": 19,
     "metadata": {},
     "output_type": "execute_result"
    }
   ],
   "source": [
    "tree2 = DecisionTreeRegressor(max_leaf_nodes=8)\n",
    "tree2.fit(df['X'].values.reshape(100,1),df['res2'].values)"
   ]
  },
  {
   "cell_type": "markdown",
   "id": "3e56115c",
   "metadata": {},
   "source": [
    "6. **Final Prediction**:\n",
    "   - The final prediction is obtained by summing the predictions of all the decision trees created during the boosting process. This ensemble of decision trees provides a much more accurate and flexible model for regression.\n"
   ]
  },
  {
   "cell_type": "code",
   "execution_count": 20,
   "id": "473dff7d",
   "metadata": {},
   "outputs": [],
   "source": [
    "y_pred = df['y'].mean() + sum(regressor.predict(X_test.reshape(-1, 1)) for regressor in [tree1,tree2])"
   ]
  },
  {
   "cell_type": "code",
   "execution_count": 21,
   "id": "b470a0ae",
   "metadata": {},
   "outputs": [
    {
     "data": {
      "text/plain": [
       "Text(0.5, 1.0, 'X vs y')"
      ]
     },
     "execution_count": 21,
     "metadata": {},
     "output_type": "execute_result"
    },
    {
     "data": {
      "image/png": "[encoded data removed]",
      "text/plain": [
       "<Figure size 1008x288 with 1 Axes>"
      ]
     },
     "metadata": {
      "needs_background": "light"
     },
     "output_type": "display_data"
    }
   ],
   "source": [
    "plt.figure(figsize=(14,4))\n",
    "plt.subplot(121)\n",
    "plt.plot(X_test, y_pred, linewidth=2,color='red')\n",
    "plt.scatter(df['X'],df['y'])\n",
    "plt.title('X vs y')"
   ]
  },
  {
   "cell_type": "markdown",
   "id": "79388d1c",
   "metadata": {},
   "source": [
    "Thus this recursive process of training the models on the previous model's residuals keeps increasing the predictive performance and will smoothen this red prediction curve."
   ]
  },
  {
   "cell_type": "markdown",
   "id": "cf76b142",
   "metadata": {},
   "source": [
    " - Using a function to give parameters and train multiple models with some learning rate"
   ]
  },
  {
   "cell_type": "code",
   "execution_count": 22,
   "id": "70304518",
   "metadata": {},
   "outputs": [],
   "source": [
    "def gradient_boost(X,y,number,lr,count=1,regs=[],foo=None):\n",
    "\n",
    "  if number == 0:\n",
    "    return \n",
    "  else:\n",
    "    # do gradient boosting\n",
    "\n",
    "    if count > 1:\n",
    "      y = y - regs[-1].predict(X)\n",
    "    else:\n",
    "      foo = y\n",
    "\n",
    "    tree_reg = DecisionTreeRegressor(max_depth=5, random_state=42)\n",
    "    tree_reg.fit(X, y)\n",
    "\n",
    "    regs.append(tree_reg)\n",
    "\n",
    "    x1 = np.linspace(-0.5, 0.5, 500)\n",
    "    y_pred = sum(lr * regressor.predict(x1.reshape(-1, 1)) for regressor in regs)\n",
    "\n",
    "    print(number)\n",
    "    plt.figure()\n",
    "    plt.plot(x1, y_pred, linewidth=2)\n",
    "    plt.plot(X[:, 0], foo,\"r.\")\n",
    "    plt.show()\n",
    "\n",
    "    gradient_boost(X,y,number-1,lr,count+1,regs,foo=foo)"
   ]
  },
  {
   "cell_type": "code",
   "execution_count": 23,
   "id": "4383ab85",
   "metadata": {},
   "outputs": [
    {
     "name": "stdout",
     "output_type": "stream",
     "text": [
      "5\n"
     ]
    },
    {
     "data": {
      "image/png": "[encoded data removed]",
      "text/plain": [
       "<Figure size 432x288 with 1 Axes>"
      ]
     },
     "metadata": {
      "needs_background": "light"
     },
     "output_type": "display_data"
    },
    {
     "name": "stdout",
     "output_type": "stream",
     "text": [
      "4\n"
     ]
    },
    {
     "data": {
      "image/png": "[encoded data removed]",
      "text/plain": [
       "<Figure size 432x288 with 1 Axes>"
      ]
     },
     "metadata": {
      "needs_background": "light"
     },
     "output_type": "display_data"
    },
    {
     "name": "stdout",
     "output_type": "stream",
     "text": [
      "3\n"
     ]
    },
    {
     "data": {
      "image/png": "[encoded data removed]",
      "text/plain": [
       "<Figure size 432x288 with 1 Axes>"
      ]
     },
     "metadata": {
      "needs_background": "light"
     },
     "output_type": "display_data"
    },
    {
     "name": "stdout",
     "output_type": "stream",
     "text": [
      "2\n"
     ]
    },
    {
     "data": {
      "image/png": "[encoded data removed]",
      "text/plain": [
       "<Figure size 432x288 with 1 Axes>"
      ]
     },
     "metadata": {
      "needs_background": "light"
     },
     "output_type": "display_data"
    },
    {
     "name": "stdout",
     "output_type": "stream",
     "text": [
      "1\n"
     ]
    },
    {
     "data": {
      "image/png": "[encoded data removed]",
      "text/plain": [
       "<Figure size 432x288 with 1 Axes>"
      ]
     },
     "metadata": {
      "needs_background": "light"
     },
     "output_type": "display_data"
    }
   ],
   "source": [
    "np.random.seed(42)\n",
    "X = np.random.rand(100, 1) - 0.5\n",
    "y = 3*X[:, 0]**2 + 0.05 * np.random.randn(100)\n",
    "gradient_boost(X,y,5,lr=1)\n",
    "     "
   ]
  },
  {
   "cell_type": "markdown",
   "id": "118d2d58",
   "metadata": {},
   "source": [
    "# Let us see the actual Gradient Boost Algorithm"
   ]
  },
  {
   "cell_type": "code",
   "execution_count": 22,
   "id": "a560d219",
   "metadata": {},
   "outputs": [],
   "source": [
    "from sklearn.ensemble import GradientBoostingRegressor"
   ]
  },
  {
   "cell_type": "code",
   "execution_count": 87,
   "id": "a1874e1e",
   "metadata": {},
   "outputs": [],
   "source": [
    "gbr = GradientBoostingRegressor(n_estimators=50,max_leaf_nodes=8)"
   ]
  },
  {
   "cell_type": "code",
   "execution_count": 88,
   "id": "f0f2471c",
   "metadata": {},
   "outputs": [
    {
     "data": {
      "text/plain": [
       "array([-0.12545988,  0.45071431,  0.23199394,  0.09865848, -0.34398136,\n",
       "       -0.34400548, -0.44191639,  0.36617615,  0.10111501,  0.20807258,\n",
       "       -0.47941551,  0.46990985,  0.33244264, -0.28766089, -0.31817503,\n",
       "       -0.31659549, -0.19575776,  0.02475643, -0.06805498, -0.20877086,\n",
       "        0.11185289, -0.36050614, -0.20785535, -0.13363816, -0.04393002,\n",
       "        0.28517596, -0.30032622,  0.01423444,  0.09241457, -0.45354959,\n",
       "        0.10754485, -0.32947588, -0.43494841,  0.44888554,  0.46563203,\n",
       "        0.30839735, -0.19538623, -0.40232789,  0.18423303, -0.05984751,\n",
       "       -0.37796177, -0.00482309, -0.46561148,  0.4093204 , -0.24122002,\n",
       "        0.16252228, -0.18828892,  0.02006802,  0.04671028, -0.31514554,\n",
       "        0.46958463,  0.27513282,  0.43949894,  0.39482735,  0.09789998,\n",
       "        0.42187424, -0.4115075 , -0.30401714, -0.45477271, -0.17466967,\n",
       "       -0.11132271, -0.22865097,  0.32873751, -0.14324667, -0.21906549,\n",
       "        0.04269608, -0.35907578,  0.30219698, -0.42544936,  0.48688694,\n",
       "        0.27224477, -0.30128432, -0.49447788,  0.31546143,  0.20685734,\n",
       "        0.22900717,  0.27127035, -0.42595535, -0.14153427, -0.38413094,\n",
       "        0.36310343,  0.12329813, -0.16910198, -0.43644165, -0.18901768,\n",
       "       -0.17481668,  0.22960618,  0.13755747,  0.38721274, -0.02778507,\n",
       "       -0.38040575,  0.21324479,  0.26078505,  0.0612772 ,  0.27096718,\n",
       "       -0.0062044 ,  0.02273283, -0.07245898, -0.47458087, -0.39210857])"
      ]
     },
     "execution_count": 88,
     "metadata": {},
     "output_type": "execute_result"
    }
   ],
   "source": [
    "X"
   ]
  },
  {
   "cell_type": "code",
   "execution_count": 89,
   "id": "4793f5b1",
   "metadata": {},
   "outputs": [
    {
     "data": {
      "text/plain": [
       "array([[-0.12545988],\n",
       "       [ 0.45071431],\n",
       "       [ 0.23199394],\n",
       "       [ 0.09865848],\n",
       "       [-0.34398136],\n",
       "       [-0.34400548],\n",
       "       [-0.44191639],\n",
       "       [ 0.36617615],\n",
       "       [ 0.10111501],\n",
       "       [ 0.20807258],\n",
       "       [-0.47941551],\n",
       "       [ 0.46990985],\n",
       "       [ 0.33244264],\n",
       "       [-0.28766089],\n",
       "       [-0.31817503],\n",
       "       [-0.31659549],\n",
       "       [-0.19575776],\n",
       "       [ 0.02475643],\n",
       "       [-0.06805498],\n",
       "       [-0.20877086],\n",
       "       [ 0.11185289],\n",
       "       [-0.36050614],\n",
       "       [-0.20785535],\n",
       "       [-0.13363816],\n",
       "       [-0.04393002],\n",
       "       [ 0.28517596],\n",
       "       [-0.30032622],\n",
       "       [ 0.01423444],\n",
       "       [ 0.09241457],\n",
       "       [-0.45354959],\n",
       "       [ 0.10754485],\n",
       "       [-0.32947588],\n",
       "       [-0.43494841],\n",
       "       [ 0.44888554],\n",
       "       [ 0.46563203],\n",
       "       [ 0.30839735],\n",
       "       [-0.19538623],\n",
       "       [-0.40232789],\n",
       "       [ 0.18423303],\n",
       "       [-0.05984751],\n",
       "       [-0.37796177],\n",
       "       [-0.00482309],\n",
       "       [-0.46561148],\n",
       "       [ 0.4093204 ],\n",
       "       [-0.24122002],\n",
       "       [ 0.16252228],\n",
       "       [-0.18828892],\n",
       "       [ 0.02006802],\n",
       "       [ 0.04671028],\n",
       "       [-0.31514554],\n",
       "       [ 0.46958463],\n",
       "       [ 0.27513282],\n",
       "       [ 0.43949894],\n",
       "       [ 0.39482735],\n",
       "       [ 0.09789998],\n",
       "       [ 0.42187424],\n",
       "       [-0.4115075 ],\n",
       "       [-0.30401714],\n",
       "       [-0.45477271],\n",
       "       [-0.17466967],\n",
       "       [-0.11132271],\n",
       "       [-0.22865097],\n",
       "       [ 0.32873751],\n",
       "       [-0.14324667],\n",
       "       [-0.21906549],\n",
       "       [ 0.04269608],\n",
       "       [-0.35907578],\n",
       "       [ 0.30219698],\n",
       "       [-0.42544936],\n",
       "       [ 0.48688694],\n",
       "       [ 0.27224477],\n",
       "       [-0.30128432],\n",
       "       [-0.49447788],\n",
       "       [ 0.31546143],\n",
       "       [ 0.20685734],\n",
       "       [ 0.22900717],\n",
       "       [ 0.27127035],\n",
       "       [-0.42595535],\n",
       "       [-0.14153427],\n",
       "       [-0.38413094],\n",
       "       [ 0.36310343],\n",
       "       [ 0.12329813],\n",
       "       [-0.16910198],\n",
       "       [-0.43644165],\n",
       "       [-0.18901768],\n",
       "       [-0.17481668],\n",
       "       [ 0.22960618],\n",
       "       [ 0.13755747],\n",
       "       [ 0.38721274],\n",
       "       [-0.02778507],\n",
       "       [-0.38040575],\n",
       "       [ 0.21324479],\n",
       "       [ 0.26078505],\n",
       "       [ 0.0612772 ],\n",
       "       [ 0.27096718],\n",
       "       [-0.0062044 ],\n",
       "       [ 0.02273283],\n",
       "       [-0.07245898],\n",
       "       [-0.47458087],\n",
       "       [-0.39210857]])"
      ]
     },
     "execution_count": 89,
     "metadata": {},
     "output_type": "execute_result"
    }
   ],
   "source": [
    "X.reshape(-1,1)"
   ]
  },
  {
   "cell_type": "code",
   "execution_count": 90,
   "id": "52c2e2ae",
   "metadata": {},
   "outputs": [
    {
     "data": {
      "text/plain": [
       "array([ 5.15728987e-02,  5.94479790e-01,  1.66051606e-01, -7.01779562e-02,\n",
       "        3.43985933e-01,  3.72874939e-01,  6.59764984e-01,  3.76341398e-01,\n",
       "       -9.75194335e-03,  1.04794741e-01,  7.35287787e-01,  6.78883363e-01,\n",
       "        3.05066318e-01,  2.73909733e-01,  3.08559932e-01,  3.49130363e-01,\n",
       "        7.98606436e-02, -1.45444646e-02, -5.71096619e-03,  5.75800683e-02,\n",
       "        5.23392240e-02,  4.02946793e-01,  1.29867214e-01,  4.18481141e-02,\n",
       "       -6.49789982e-02,  2.22943721e-01,  2.53451786e-01, -3.95060058e-02,\n",
       "        1.75570720e-02,  6.37324227e-01,  1.29006981e-01,  3.34391950e-01,\n",
       "        5.80417870e-01,  6.00772381e-01,  5.54501010e-01,  2.84001079e-01,\n",
       "        1.17538848e-01,  6.08765289e-01,  9.22073759e-02,  2.58225391e-02,\n",
       "        4.26829699e-01, -5.83641153e-02,  7.07523289e-01,  5.40226226e-01,\n",
       "        2.14112889e-01,  3.37711060e-02,  1.76497872e-01, -6.88843767e-02,\n",
       "        3.58884053e-02,  4.07472924e-01,  6.12002352e-01,  1.98779325e-01,\n",
       "        5.84460527e-01,  4.42492127e-01, -4.87799540e-02,  5.37361759e-01,\n",
       "        4.54900077e-01,  3.00958881e-01,  5.74483445e-01,  1.69025200e-01,\n",
       "       -1.98442712e-03,  1.40740720e-01,  3.64880911e-01,  1.56124184e-05,\n",
       "        1.55342064e-01,  7.08260043e-02,  3.06432075e-01,  2.83200738e-01,\n",
       "        5.56015604e-01,  7.50267811e-01,  1.60504108e-01,  2.06293891e-01,\n",
       "        7.59622208e-01,  3.13396972e-01,  1.40894525e-01,  1.74655260e-01,\n",
       "        1.86761567e-01,  5.55926561e-01,  7.47494737e-02,  4.06952167e-01,\n",
       "        4.88821019e-01,  6.92989303e-02,  2.62212591e-02,  6.04271621e-01,\n",
       "        5.84489646e-02,  1.31036843e-01,  2.16086770e-01,  1.57320579e-02,\n",
       "        4.97969931e-01,  2.29550775e-02,  4.75228621e-01,  2.31259667e-01,\n",
       "        1.91757119e-01, -2.64221234e-02,  1.75793916e-01, -4.06750304e-02,\n",
       "       -2.30474088e-03,  3.28085108e-02,  6.89515556e-01,  5.02606562e-01])"
      ]
     },
     "execution_count": 90,
     "metadata": {},
     "output_type": "execute_result"
    }
   ],
   "source": [
    "y"
   ]
  },
  {
   "cell_type": "code",
   "execution_count": 91,
   "id": "2cf2b7da",
   "metadata": {},
   "outputs": [
    {
     "data": {
      "text/plain": [
       "GradientBoostingRegressor(max_leaf_nodes=8, n_estimators=50)"
      ]
     },
     "execution_count": 91,
     "metadata": {},
     "output_type": "execute_result"
    }
   ],
   "source": [
    "gbr.fit(X.reshape(-1,1),y)"
   ]
  },
  {
   "cell_type": "code",
   "execution_count": 92,
   "id": "81103d0a",
   "metadata": {},
   "outputs": [],
   "source": [
    "y_pred = gbr.predict(X_test.reshape(-1,1))"
   ]
  },
  {
   "cell_type": "code",
   "execution_count": 93,
   "id": "e9cdbdb7",
   "metadata": {},
   "outputs": [
    {
     "data": {
      "text/plain": [
       "Text(0.5, 1.0, 'X vs y')"
      ]
     },
     "execution_count": 93,
     "metadata": {},
     "output_type": "execute_result"
    },
    {
     "data": {
      "image/png": "[encoded data removed]",
      "text/plain": [
       "<Figure size 1008x288 with 1 Axes>"
      ]
     },
     "metadata": {
      "needs_background": "light"
     },
     "output_type": "display_data"
    }
   ],
   "source": [
    "plt.figure(figsize=(14,4))\n",
    "plt.subplot(121)\n",
    "plt.plot(X_test, y_pred, linewidth=2,color='red')\n",
    "plt.scatter(df['X'],df['y'])\n",
    "plt.title('X vs y')"
   ]
  },
  {
   "cell_type": "code",
   "execution_count": 94,
   "id": "ba22dfdf",
   "metadata": {},
   "outputs": [
    {
     "data": {
      "text/plain": [
       "array([[DecisionTreeRegressor(criterion='friedman_mse', max_depth=3, max_leaf_nodes=8,\n",
       "                              random_state=RandomState(MT19937) at 0x7F96A833B040)    ],\n",
       "       [DecisionTreeRegressor(criterion='friedman_mse', max_depth=3, max_leaf_nodes=8,\n",
       "                              random_state=RandomState(MT19937) at 0x7F96A833B040)    ],\n",
       "       [DecisionTreeRegressor(criterion='friedman_mse', max_depth=3, max_leaf_nodes=8,\n",
       "                              random_state=RandomState(MT19937) at 0x7F96A833B040)    ],\n",
       "       [DecisionTreeRegressor(criterion='friedman_mse', max_depth=3, max_leaf_nodes=8,\n",
       "                              random_state=RandomState(MT19937) at 0x7F96A833B040)    ],\n",
       "       [DecisionTreeRegressor(criterion='friedman_mse', max_depth=3, max_leaf_nodes=8,\n",
       "                              random_state=RandomState(MT19937) at 0x7F96A833B040)    ],\n",
       "       [DecisionTreeRegressor(criterion='friedman_mse', max_depth=3, max_leaf_nodes=8,\n",
       "                              random_state=RandomState(MT19937) at 0x7F96A833B040)    ],\n",
       "       [DecisionTreeRegressor(criterion='friedman_mse', max_depth=3, max_leaf_nodes=8,\n",
       "                              random_state=RandomState(MT19937) at 0x7F96A833B040)    ],\n",
       "       [DecisionTreeRegressor(criterion='friedman_mse', max_depth=3, max_leaf_nodes=8,\n",
       "                              random_state=RandomState(MT19937) at 0x7F96A833B040)    ],\n",
       "       [DecisionTreeRegressor(criterion='friedman_mse', max_depth=3, max_leaf_nodes=8,\n",
       "                              random_state=RandomState(MT19937) at 0x7F96A833B040)    ],\n",
       "       [DecisionTreeRegressor(criterion='friedman_mse', max_depth=3, max_leaf_nodes=8,\n",
       "                              random_state=RandomState(MT19937) at 0x7F96A833B040)    ],\n",
       "       [DecisionTreeRegressor(criterion='friedman_mse', max_depth=3, max_leaf_nodes=8,\n",
       "                              random_state=RandomState(MT19937) at 0x7F96A833B040)    ],\n",
       "       [DecisionTreeRegressor(criterion='friedman_mse', max_depth=3, max_leaf_nodes=8,\n",
       "                              random_state=RandomState(MT19937) at 0x7F96A833B040)    ],\n",
       "       [DecisionTreeRegressor(criterion='friedman_mse', max_depth=3, max_leaf_nodes=8,\n",
       "                              random_state=RandomState(MT19937) at 0x7F96A833B040)    ],\n",
       "       [DecisionTreeRegressor(criterion='friedman_mse', max_depth=3, max_leaf_nodes=8,\n",
       "                              random_state=RandomState(MT19937) at 0x7F96A833B040)    ],\n",
       "       [DecisionTreeRegressor(criterion='friedman_mse', max_depth=3, max_leaf_nodes=8,\n",
       "                              random_state=RandomState(MT19937) at 0x7F96A833B040)    ],\n",
       "       [DecisionTreeRegressor(criterion='friedman_mse', max_depth=3, max_leaf_nodes=8,\n",
       "                              random_state=RandomState(MT19937) at 0x7F96A833B040)    ],\n",
       "       [DecisionTreeRegressor(criterion='friedman_mse', max_depth=3, max_leaf_nodes=8,\n",
       "                              random_state=RandomState(MT19937) at 0x7F96A833B040)    ],\n",
       "       [DecisionTreeRegressor(criterion='friedman_mse', max_depth=3, max_leaf_nodes=8,\n",
       "                              random_state=RandomState(MT19937) at 0x7F96A833B040)    ],\n",
       "       [DecisionTreeRegressor(criterion='friedman_mse', max_depth=3, max_leaf_nodes=8,\n",
       "                              random_state=RandomState(MT19937) at 0x7F96A833B040)    ],\n",
       "       [DecisionTreeRegressor(criterion='friedman_mse', max_depth=3, max_leaf_nodes=8,\n",
       "                              random_state=RandomState(MT19937) at 0x7F96A833B040)    ],\n",
       "       [DecisionTreeRegressor(criterion='friedman_mse', max_depth=3, max_leaf_nodes=8,\n",
       "                              random_state=RandomState(MT19937) at 0x7F96A833B040)    ],\n",
       "       [DecisionTreeRegressor(criterion='friedman_mse', max_depth=3, max_leaf_nodes=8,\n",
       "                              random_state=RandomState(MT19937) at 0x7F96A833B040)    ],\n",
       "       [DecisionTreeRegressor(criterion='friedman_mse', max_depth=3, max_leaf_nodes=8,\n",
       "                              random_state=RandomState(MT19937) at 0x7F96A833B040)    ],\n",
       "       [DecisionTreeRegressor(criterion='friedman_mse', max_depth=3, max_leaf_nodes=8,\n",
       "                              random_state=RandomState(MT19937) at 0x7F96A833B040)    ],\n",
       "       [DecisionTreeRegressor(criterion='friedman_mse', max_depth=3, max_leaf_nodes=8,\n",
       "                              random_state=RandomState(MT19937) at 0x7F96A833B040)    ],\n",
       "       [DecisionTreeRegressor(criterion='friedman_mse', max_depth=3, max_leaf_nodes=8,\n",
       "                              random_state=RandomState(MT19937) at 0x7F96A833B040)    ],\n",
       "       [DecisionTreeRegressor(criterion='friedman_mse', max_depth=3, max_leaf_nodes=8,\n",
       "                              random_state=RandomState(MT19937) at 0x7F96A833B040)    ],\n",
       "       [DecisionTreeRegressor(criterion='friedman_mse', max_depth=3, max_leaf_nodes=8,\n",
       "                              random_state=RandomState(MT19937) at 0x7F96A833B040)    ],\n",
       "       [DecisionTreeRegressor(criterion='friedman_mse', max_depth=3, max_leaf_nodes=8,\n",
       "                              random_state=RandomState(MT19937) at 0x7F96A833B040)    ],\n",
       "       [DecisionTreeRegressor(criterion='friedman_mse', max_depth=3, max_leaf_nodes=8,\n",
       "                              random_state=RandomState(MT19937) at 0x7F96A833B040)    ],\n",
       "       [DecisionTreeRegressor(criterion='friedman_mse', max_depth=3, max_leaf_nodes=8,\n",
       "                              random_state=RandomState(MT19937) at 0x7F96A833B040)    ],\n",
       "       [DecisionTreeRegressor(criterion='friedman_mse', max_depth=3, max_leaf_nodes=8,\n",
       "                              random_state=RandomState(MT19937) at 0x7F96A833B040)    ],\n",
       "       [DecisionTreeRegressor(criterion='friedman_mse', max_depth=3, max_leaf_nodes=8,\n",
       "                              random_state=RandomState(MT19937) at 0x7F96A833B040)    ],\n",
       "       [DecisionTreeRegressor(criterion='friedman_mse', max_depth=3, max_leaf_nodes=8,\n",
       "                              random_state=RandomState(MT19937) at 0x7F96A833B040)    ],\n",
       "       [DecisionTreeRegressor(criterion='friedman_mse', max_depth=3, max_leaf_nodes=8,\n",
       "                              random_state=RandomState(MT19937) at 0x7F96A833B040)    ],\n",
       "       [DecisionTreeRegressor(criterion='friedman_mse', max_depth=3, max_leaf_nodes=8,\n",
       "                              random_state=RandomState(MT19937) at 0x7F96A833B040)    ],\n",
       "       [DecisionTreeRegressor(criterion='friedman_mse', max_depth=3, max_leaf_nodes=8,\n",
       "                              random_state=RandomState(MT19937) at 0x7F96A833B040)    ],\n",
       "       [DecisionTreeRegressor(criterion='friedman_mse', max_depth=3, max_leaf_nodes=8,\n",
       "                              random_state=RandomState(MT19937) at 0x7F96A833B040)    ],\n",
       "       [DecisionTreeRegressor(criterion='friedman_mse', max_depth=3, max_leaf_nodes=8,\n",
       "                              random_state=RandomState(MT19937) at 0x7F96A833B040)    ],\n",
       "       [DecisionTreeRegressor(criterion='friedman_mse', max_depth=3, max_leaf_nodes=8,\n",
       "                              random_state=RandomState(MT19937) at 0x7F96A833B040)    ],\n",
       "       [DecisionTreeRegressor(criterion='friedman_mse', max_depth=3, max_leaf_nodes=8,\n",
       "                              random_state=RandomState(MT19937) at 0x7F96A833B040)    ],\n",
       "       [DecisionTreeRegressor(criterion='friedman_mse', max_depth=3, max_leaf_nodes=8,\n",
       "                              random_state=RandomState(MT19937) at 0x7F96A833B040)    ],\n",
       "       [DecisionTreeRegressor(criterion='friedman_mse', max_depth=3, max_leaf_nodes=8,\n",
       "                              random_state=RandomState(MT19937) at 0x7F96A833B040)    ],\n",
       "       [DecisionTreeRegressor(criterion='friedman_mse', max_depth=3, max_leaf_nodes=8,\n",
       "                              random_state=RandomState(MT19937) at 0x7F96A833B040)    ],\n",
       "       [DecisionTreeRegressor(criterion='friedman_mse', max_depth=3, max_leaf_nodes=8,\n",
       "                              random_state=RandomState(MT19937) at 0x7F96A833B040)    ],\n",
       "       [DecisionTreeRegressor(criterion='friedman_mse', max_depth=3, max_leaf_nodes=8,\n",
       "                              random_state=RandomState(MT19937) at 0x7F96A833B040)    ],\n",
       "       [DecisionTreeRegressor(criterion='friedman_mse', max_depth=3, max_leaf_nodes=8,\n",
       "                              random_state=RandomState(MT19937) at 0x7F96A833B040)    ],\n",
       "       [DecisionTreeRegressor(criterion='friedman_mse', max_depth=3, max_leaf_nodes=8,\n",
       "                              random_state=RandomState(MT19937) at 0x7F96A833B040)    ],\n",
       "       [DecisionTreeRegressor(criterion='friedman_mse', max_depth=3, max_leaf_nodes=8,\n",
       "                              random_state=RandomState(MT19937) at 0x7F96A833B040)    ],\n",
       "       [DecisionTreeRegressor(criterion='friedman_mse', max_depth=3, max_leaf_nodes=8,\n",
       "                              random_state=RandomState(MT19937) at 0x7F96A833B040)    ]],\n",
       "      dtype=object)"
      ]
     },
     "execution_count": 94,
     "metadata": {},
     "output_type": "execute_result"
    }
   ],
   "source": [
    "gbr.estimators_"
   ]
  },
  {
   "cell_type": "code",
   "execution_count": 95,
   "id": "f73b1bca",
   "metadata": {},
   "outputs": [
    {
     "data": {
      "text/plain": [
       "0.1"
      ]
     },
     "execution_count": 95,
     "metadata": {},
     "output_type": "execute_result"
    }
   ],
   "source": [
    "gbr.learning_rate"
   ]
  },
  {
   "cell_type": "code",
   "execution_count": 96,
   "id": "8419b1fd",
   "metadata": {},
   "outputs": [
    {
     "data": {
      "text/plain": [
       "array([0.04636343, 0.03893083, 0.03250558, 0.02729584, 0.0231556 ,\n",
       "       0.01920051, 0.01631744, 0.01362611, 0.01144598, 0.00963395,\n",
       "       0.00815291, 0.00696367, 0.00595375, 0.00519832, 0.00449432,\n",
       "       0.00398539, 0.00349229, 0.00305532, 0.00269176, 0.00245179,\n",
       "       0.00218898, 0.00197388, 0.00181797, 0.0016707 , 0.00154488,\n",
       "       0.00144538, 0.00136404, 0.00128495, 0.00123136, 0.00118286,\n",
       "       0.00114142, 0.00108979, 0.00105013, 0.00102452, 0.00100129,\n",
       "       0.00097507, 0.00095953, 0.00092571, 0.00090666, 0.0008892 ,\n",
       "       0.00086736, 0.00084349, 0.00082505, 0.00081259, 0.00078526,\n",
       "       0.00077501, 0.00076216, 0.00073225, 0.00072091, 0.00071312])"
      ]
     },
     "execution_count": 96,
     "metadata": {},
     "output_type": "execute_result"
    }
   ],
   "source": [
    "gbr.train_score_"
   ]
  },
  {
   "cell_type": "code",
   "execution_count": 101,
   "id": "38254824",
   "metadata": {},
   "outputs": [
    {
     "data": {
      "text/plain": [
       "array([DecisionTreeRegressor(criterion='friedman_mse', max_depth=3, max_leaf_nodes=8,\n",
       "                             random_state=RandomState(MT19937) at 0x7F96A833B040)    ],\n",
       "      dtype=object)"
      ]
     },
     "execution_count": 101,
     "metadata": {},
     "output_type": "execute_result"
    }
   ],
   "source": [
    "gbr.estimators_[0]"
   ]
  },
  {
   "cell_type": "code",
   "execution_count": null,
   "id": "6565f744",
   "metadata": {},
   "outputs": [],
   "source": []
  }
 ],
 "metadata": {
  "kernelspec": {
   "display_name": "Python 3 (ipykernel)",
   "language": "python",
   "name": "python3"
  },
  "language_info": {
   "codemirror_mode": {
    "name": "ipython",
    "version": 3
   },
   "file_extension": ".py",
   "mimetype": "text/x-python",
   "name": "python",
   "nbconvert_exporter": "python",
   "pygments_lexer": "ipython3",
   "version": "3.9.12"
  }
 },
 "nbformat": 4,
 "nbformat_minor": 5
}
