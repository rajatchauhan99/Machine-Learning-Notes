{
 "cells": [
  {
   "cell_type": "markdown",
   "id": "51ce7b1e",
   "metadata": {},
   "source": [
    "# Working on boston housing price dataset \n",
    "\n",
    "\n",
    "Regression problem to predict house price"
   ]
  },
  {
   "cell_type": "code",
   "execution_count": 7,
   "id": "7aac8e48",
   "metadata": {},
   "outputs": [],
   "source": [
    "from sklearn.datasets import load_boston"
   ]
  },
  {
   "cell_type": "code",
   "execution_count": 8,
   "id": "c8c59e5d",
   "metadata": {},
   "outputs": [
    {
     "name": "stderr",
     "output_type": "stream",
     "text": [
      "/Users/rajatchauhan/opt/anaconda3/lib/python3.9/site-packages/sklearn/utils/deprecation.py:87: FutureWarning: Function load_boston is deprecated; `load_boston` is deprecated in 1.0 and will be removed in 1.2.\n",
      "\n",
      "    The Boston housing prices dataset has an ethical problem. You can refer to\n",
      "    the documentation of this function for further details.\n",
      "\n",
      "    The scikit-learn maintainers therefore strongly discourage the use of this\n",
      "    dataset unless the purpose of the code is to study and educate about\n",
      "    ethical issues in data science and machine learning.\n",
      "\n",
      "    In this special case, you can fetch the dataset from the original\n",
      "    source::\n",
      "\n",
      "        import pandas as pd\n",
      "        import numpy as np\n",
      "\n",
      "\n",
      "        data_url = \"http://lib.stat.cmu.edu/datasets/boston\"\n",
      "        raw_df = pd.read_csv(data_url, sep=\"\\s+\", skiprows=22, header=None)\n",
      "        data = np.hstack([raw_df.values[::2, :], raw_df.values[1::2, :2]])\n",
      "        target = raw_df.values[1::2, 2]\n",
      "\n",
      "    Alternative datasets include the California housing dataset (i.e.\n",
      "    :func:`~sklearn.datasets.fetch_california_housing`) and the Ames housing\n",
      "    dataset. You can load the datasets as follows::\n",
      "\n",
      "        from sklearn.datasets import fetch_california_housing\n",
      "        housing = fetch_california_housing()\n",
      "\n",
      "    for the California housing dataset and::\n",
      "\n",
      "        from sklearn.datasets import fetch_openml\n",
      "        housing = fetch_openml(name=\"house_prices\", as_frame=True)\n",
      "\n",
      "    for the Ames housing dataset.\n",
      "    \n",
      "  warnings.warn(msg, category=FutureWarning)\n"
     ]
    }
   ],
   "source": [
    "X, y = load_boston(return_X_y=True)"
   ]
  },
  {
   "cell_type": "code",
   "execution_count": 9,
   "id": "2ef16c2a",
   "metadata": {},
   "outputs": [
    {
     "data": {
      "text/plain": [
       "array([[6.3200e-03, 1.8000e+01, 2.3100e+00, ..., 1.5300e+01, 3.9690e+02,\n",
       "        4.9800e+00],\n",
       "       [2.7310e-02, 0.0000e+00, 7.0700e+00, ..., 1.7800e+01, 3.9690e+02,\n",
       "        9.1400e+00],\n",
       "       [2.7290e-02, 0.0000e+00, 7.0700e+00, ..., 1.7800e+01, 3.9283e+02,\n",
       "        4.0300e+00],\n",
       "       ...,\n",
       "       [6.0760e-02, 0.0000e+00, 1.1930e+01, ..., 2.1000e+01, 3.9690e+02,\n",
       "        5.6400e+00],\n",
       "       [1.0959e-01, 0.0000e+00, 1.1930e+01, ..., 2.1000e+01, 3.9345e+02,\n",
       "        6.4800e+00],\n",
       "       [4.7410e-02, 0.0000e+00, 1.1930e+01, ..., 2.1000e+01, 3.9690e+02,\n",
       "        7.8800e+00]])"
      ]
     },
     "execution_count": 9,
     "metadata": {},
     "output_type": "execute_result"
    }
   ],
   "source": [
    "X"
   ]
  },
  {
   "cell_type": "code",
   "execution_count": 10,
   "id": "51e496e6",
   "metadata": {},
   "outputs": [
    {
     "data": {
      "text/plain": [
       "(506, 13)"
      ]
     },
     "execution_count": 10,
     "metadata": {},
     "output_type": "execute_result"
    }
   ],
   "source": [
    "X.shape"
   ]
  },
  {
   "cell_type": "markdown",
   "id": "c4c3d027",
   "metadata": {},
   "source": [
    "So we have total 13 features and number of records in the dataset are 506"
   ]
  },
  {
   "cell_type": "code",
   "execution_count": 11,
   "id": "1d9dd862",
   "metadata": {},
   "outputs": [
    {
     "data": {
      "text/plain": [
       "(506,)"
      ]
     },
     "execution_count": 11,
     "metadata": {},
     "output_type": "execute_result"
    }
   ],
   "source": [
    "y.shape"
   ]
  },
  {
   "cell_type": "markdown",
   "id": "9a8efcf2",
   "metadata": {},
   "source": [
    "# Using different regression algorithms on this training dataset"
   ]
  },
  {
   "cell_type": "markdown",
   "id": "71f3bdc7",
   "metadata": {},
   "source": [
    "We will use these three algorithms:\n",
    "\n",
    "1. Linear Regression\n",
    "2. Decision Tree Regressor\n",
    "3. Support Vector Regressor"
   ]
  },
  {
   "cell_type": "code",
   "execution_count": 17,
   "id": "6c0047c4",
   "metadata": {},
   "outputs": [],
   "source": [
    "from sklearn.linear_model import LinearRegression\n",
    "from sklearn.tree import DecisionTreeRegressor\n",
    "from sklearn.svm import SVR"
   ]
  },
  {
   "cell_type": "code",
   "execution_count": 18,
   "id": "6ea58a5b",
   "metadata": {},
   "outputs": [],
   "source": [
    "lr = LinearRegression()\n",
    "dt = DecisionTreeRegressor()\n",
    "svr = SVR()"
   ]
  },
  {
   "cell_type": "markdown",
   "id": "58c644fd",
   "metadata": {},
   "source": [
    "Let us see individual performance of these algorithms:"
   ]
  },
  {
   "cell_type": "code",
   "execution_count": 20,
   "id": "ce302093",
   "metadata": {},
   "outputs": [],
   "source": [
    "estimators = [(\"Linear Regressor\", lr) , (\"Decision Trees\", dt) , (\"Support Vector Regressor\", svr)]"
   ]
  },
  {
   "cell_type": "markdown",
   "id": "aa0981d1",
   "metadata": {},
   "source": [
    "For regression problems the scoring parameter we can use is R2 Score"
   ]
  },
  {
   "cell_type": "code",
   "execution_count": 22,
   "id": "6e87fb67",
   "metadata": {},
   "outputs": [],
   "source": [
    "from sklearn.model_selection import cross_val_score"
   ]
  },
  {
   "cell_type": "code",
   "execution_count": 27,
   "id": "fe66fe35",
   "metadata": {},
   "outputs": [
    {
     "name": "stdout",
     "output_type": "stream",
     "text": [
      "Linear Regressor score  0.2\n",
      "Decision Trees score  -0.15\n",
      "Support Vector Regressor score  -0.41\n"
     ]
    }
   ],
   "source": [
    "import numpy as np\n",
    "\n",
    "for estimator in estimators:\n",
    "    scores = cross_val_score(estimator[1], X,y, cv = 10, scoring = 'r2')\n",
    "    print(estimator[0], \"score \",np.round(scores.mean(),2))"
   ]
  },
  {
   "cell_type": "markdown",
   "id": "3ee59491",
   "metadata": {},
   "source": [
    "So the models are performing very bad, but lets see how does the voting regressor performs"
   ]
  },
  {
   "cell_type": "markdown",
   "id": "56a35c4b",
   "metadata": {},
   "source": [
    "# Voting regressor"
   ]
  },
  {
   "cell_type": "code",
   "execution_count": 26,
   "id": "feba49b0",
   "metadata": {},
   "outputs": [],
   "source": [
    "from sklearn.ensemble import VotingRegressor"
   ]
  },
  {
   "cell_type": "code",
   "execution_count": 30,
   "id": "0e436157",
   "metadata": {},
   "outputs": [
    {
     "name": "stdout",
     "output_type": "stream",
     "text": [
      "Voting Regressor score 0.46\n"
     ]
    }
   ],
   "source": [
    "vr = VotingRegressor(estimators)\n",
    "scores = cross_val_score(vr, X,y, cv = 10, scoring = 'r2')\n",
    "print(\"Voting Regressor score\", np.round(scores.mean(),2))"
   ]
  },
  {
   "cell_type": "markdown",
   "id": "9b6ac6a4",
   "metadata": {},
   "source": [
    "The improvement is good"
   ]
  },
  {
   "cell_type": "markdown",
   "id": "d8f25529",
   "metadata": {},
   "source": [
    "# Experimenting with weights"
   ]
  },
  {
   "cell_type": "code",
   "execution_count": 34,
   "id": "c704a6bb",
   "metadata": {},
   "outputs": [
    {
     "name": "stdout",
     "output_type": "stream",
     "text": [
      "For i = 1, j = 1, k = 1 Score: 0.45\n",
      "For i = 1, j = 1, k = 2 Score: 0.35\n",
      "For i = 1, j = 1, k = 3 Score: 0.26\n",
      "For i = 1, j = 2, k = 1 Score: 0.39\n",
      "For i = 1, j = 2, k = 2 Score: 0.39\n",
      "For i = 1, j = 2, k = 3 Score: 0.36\n",
      "For i = 1, j = 3, k = 1 Score: 0.36\n",
      "For i = 1, j = 3, k = 2 Score: 0.37\n",
      "For i = 1, j = 3, k = 3 Score: 0.37\n",
      "For i = 2, j = 1, k = 1 Score: 0.45\n",
      "For i = 2, j = 1, k = 2 Score: 0.41\n",
      "For i = 2, j = 1, k = 3 Score: 0.36\n",
      "For i = 2, j = 2, k = 1 Score: 0.42\n",
      "For i = 2, j = 2, k = 2 Score: 0.44\n",
      "For i = 2, j = 2, k = 3 Score: 0.41\n",
      "For i = 2, j = 3, k = 1 Score: 0.41\n",
      "For i = 2, j = 3, k = 2 Score: 0.44\n",
      "For i = 2, j = 3, k = 3 Score: 0.36\n",
      "For i = 3, j = 1, k = 1 Score: 0.44\n",
      "For i = 3, j = 1, k = 2 Score: 0.4\n",
      "For i = 3, j = 1, k = 3 Score: 0.39\n",
      "For i = 3, j = 2, k = 1 Score: 0.47\n",
      "For i = 3, j = 2, k = 2 Score: 0.47\n",
      "For i = 3, j = 2, k = 3 Score: 0.42\n",
      "For i = 3, j = 3, k = 1 Score: 0.42\n",
      "For i = 3, j = 3, k = 2 Score: 0.45\n",
      "For i = 3, j = 3, k = 3 Score: 0.45\n"
     ]
    }
   ],
   "source": [
    "for i in range(1,4):\n",
    "    for j in range(1,4):\n",
    "        for k in range(1,4):\n",
    "            vr = VotingRegressor(estimators, weights = [i,j,k])\n",
    "            scores = cross_val_score(vr, X,y, cv = 10, scoring = 'r2')\n",
    "            print(\"For i = {}, j = {}, k = {} Score:\".format(i,j,k), np.round(scores.mean(),2))"
   ]
  },
  {
   "cell_type": "markdown",
   "id": "c5db1406",
   "metadata": {},
   "source": [
    "# Using same algorithm instances"
   ]
  },
  {
   "cell_type": "markdown",
   "id": "1df02400",
   "metadata": {},
   "source": [
    "Let us use decision trees with different depths"
   ]
  },
  {
   "cell_type": "code",
   "execution_count": 35,
   "id": "b413635e",
   "metadata": {},
   "outputs": [],
   "source": [
    "dt1 = DecisionTreeRegressor(max_depth=1)\n",
    "dt2 = DecisionTreeRegressor(max_depth=3)\n",
    "dt3 = DecisionTreeRegressor(max_depth=5)\n",
    "dt4 = DecisionTreeRegressor(max_depth=7)\n",
    "dt5 = DecisionTreeRegressor(max_depth=None)"
   ]
  },
  {
   "cell_type": "code",
   "execution_count": 37,
   "id": "582f0994",
   "metadata": {},
   "outputs": [],
   "source": [
    "estimators = [(\"Decision Tree 1\", dt1), (\"Decision Tree 2\", dt2), (\"Decision Tree 3\", dt3), \n",
    "              (\"Decision Tree 4\", dt4), (\"Decision Tree 5\", dt5)]"
   ]
  },
  {
   "cell_type": "markdown",
   "id": "8520e9cd",
   "metadata": {},
   "source": [
    "Let us see individual performance of these decision trees first"
   ]
  },
  {
   "cell_type": "code",
   "execution_count": 38,
   "id": "c13570e1",
   "metadata": {},
   "outputs": [
    {
     "name": "stdout",
     "output_type": "stream",
     "text": [
      "Decision Tree 1 -0.85\n",
      "Decision Tree 2 -0.11\n",
      "Decision Tree 3 0.03\n",
      "Decision Tree 4 0.08\n",
      "Decision Tree 5 -0.07\n"
     ]
    }
   ],
   "source": [
    "for estimator in estimators:\n",
    "    scores = cross_val_score(estimator[1], X,y, cv = 10, scoring='r2')\n",
    "    print(estimator[0], np.round(scores.mean(),2))"
   ]
  },
  {
   "cell_type": "markdown",
   "id": "c4347a13",
   "metadata": {},
   "source": [
    "Again not so good result"
   ]
  },
  {
   "cell_type": "markdown",
   "id": "8b42f5bf",
   "metadata": {},
   "source": [
    "Let us use Voting regressor on top of these decision trees now"
   ]
  },
  {
   "cell_type": "code",
   "execution_count": 39,
   "id": "e5bee29c",
   "metadata": {},
   "outputs": [
    {
     "name": "stdout",
     "output_type": "stream",
     "text": [
      "Voting regressor R2 score:  0.21\n"
     ]
    }
   ],
   "source": [
    "vr = VotingRegressor(estimators)\n",
    "scores = cross_val_score(vr, X,y, cv = 10, scoring='r2')\n",
    "print(\"Voting regressor R2 score: \", np.round(scores.mean(),2))"
   ]
  },
  {
   "cell_type": "markdown",
   "id": "31cef972",
   "metadata": {},
   "source": [
    "So, great thing the scores are increasing"
   ]
  }
 ],
 "metadata": {
  "kernelspec": {
   "display_name": "Python 3 (ipykernel)",
   "language": "python",
   "name": "python3"
  },
  "language_info": {
   "codemirror_mode": {
    "name": "ipython",
    "version": 3
   },
   "file_extension": ".py",
   "mimetype": "text/x-python",
   "name": "python",
   "nbconvert_exporter": "python",
   "pygments_lexer": "ipython3",
   "version": "3.9.12"
  }
 },
 "nbformat": 4,
 "nbformat_minor": 5
}
