{
 "cells": [
  {
   "cell_type": "markdown",
   "id": "5eac810b",
   "metadata": {},
   "source": [
    "In Support Vector Machines (SVM), kernels are a fundamental concept used to transform input data into a higher-dimensional feature space. Kernels play a crucial role in SVMs by allowing them to solve complex, nonlinear classification and regression problems.\n",
    "\n",
    "The primary idea behind using kernels in SVM is to find a hyperplane (decision boundary) that best separates data points in a higher-dimensional space, even if the original data is not linearly separable in its original feature space. Kernels achieve this by implicitly mapping the data into a higher-dimensional space, where linear separation becomes possible. This mapping is performed efficiently, without explicitly computing the transformed feature vectors.\n",
    "\n",
    "Some commonly used kernels in SVM are:\n",
    "\n",
    "Linear Kernel: This is the simplest kernel, and it performs a linear transformation of the input data. It is suitable for problems where the data is linearly separable in the original feature space.\n",
    "\n",
    "Polynomial Kernel: The polynomial kernel maps data into a higher-dimensional space using polynomial functions. It is effective when the decision boundary is nonlinear but can be approximated by a polynomial.\n",
    "\n",
    "Radial Basis Function (RBF) Kernel: The RBF kernel, also known as the Gaussian kernel, transforms data into an infinite-dimensional space using Gaussian functions. It is suitable for problems with complex, nonlinear decision boundaries.\n",
    "\n",
    "Sigmoid Kernel: The sigmoid kernel is based on the hyperbolic tangent function and can be used when the data does not exhibit clear linear or polynomial separability."
   ]
  },
  {
   "cell_type": "markdown",
   "id": "9bd0b301",
   "metadata": {},
   "source": [
    "# Let us create a non-linearly seperable dataset.\n",
    "\n",
    "\n",
    "Make a large circle containing a smaller circle in 2d.\n",
    "\n",
    "A simple toy dataset to visualize clustering and classification\n",
    "algorithms."
   ]
  },
  {
   "cell_type": "code",
   "execution_count": 4,
   "id": "6748b6bc",
   "metadata": {},
   "outputs": [],
   "source": [
    "from sklearn.datasets import make_circles"
   ]
  },
  {
   "cell_type": "code",
   "execution_count": 5,
   "id": "d5af2e2e",
   "metadata": {},
   "outputs": [],
   "source": [
    "X, y = make_circles(100, factor=.1, noise=.1)"
   ]
  },
  {
   "cell_type": "code",
   "execution_count": 6,
   "id": "901261c3",
   "metadata": {},
   "outputs": [],
   "source": [
    "import matplotlib.pyplot as plt"
   ]
  },
  {
   "cell_type": "code",
   "execution_count": 7,
   "id": "162d757b",
   "metadata": {},
   "outputs": [
    {
     "data": {
      "text/plain": [
       "<matplotlib.collections.PathCollection at 0x7fa660875c10>"
      ]
     },
     "execution_count": 7,
     "metadata": {},
     "output_type": "execute_result"
    },
    {
     "data": {
      "image/png": "[encoded data removed]",
      "text/plain": [
       "<Figure size 432x288 with 1 Axes>"
      ]
     },
     "metadata": {
      "needs_background": "light"
     },
     "output_type": "display_data"
    }
   ],
   "source": [
    "plt.scatter(X[:, 0], X[:, 1], c=y, s=50, cmap='bwr')"
   ]
  },
  {
   "cell_type": "markdown",
   "id": "bc60f88b",
   "metadata": {},
   "source": [
    "Clearly this is a non-linearly seperable dataset, so by using linear kernel this should give a very less accuracy (performance metric)"
   ]
  },
  {
   "cell_type": "markdown",
   "id": "13c0c7f8",
   "metadata": {},
   "source": [
    "# Making a SVC model for this data with linear kernel to see the performance"
   ]
  },
  {
   "cell_type": "markdown",
   "id": "46efc505",
   "metadata": {},
   "source": [
    "Splitting the data into train and test split"
   ]
  },
  {
   "cell_type": "code",
   "execution_count": 9,
   "id": "338a3317",
   "metadata": {},
   "outputs": [],
   "source": [
    "from sklearn.model_selection import train_test_split\n",
    "\n",
    "X_train, X_test, y_train, y_test = train_test_split(X, y, test_size = 0.20)"
   ]
  },
  {
   "cell_type": "markdown",
   "id": "a568a81a",
   "metadata": {},
   "source": [
    "Importing support vector classifier"
   ]
  },
  {
   "cell_type": "code",
   "execution_count": 10,
   "id": "ba334dfa",
   "metadata": {},
   "outputs": [],
   "source": [
    "from sklearn.svm import SVC"
   ]
  },
  {
   "cell_type": "markdown",
   "id": "6d89f730",
   "metadata": {},
   "source": [
    "Creating a linear SVC model"
   ]
  },
  {
   "cell_type": "code",
   "execution_count": 12,
   "id": "f12d3844",
   "metadata": {},
   "outputs": [
    {
     "data": {
      "text/plain": [
       "SVC(kernel='linear')"
      ]
     },
     "execution_count": 12,
     "metadata": {},
     "output_type": "execute_result"
    }
   ],
   "source": [
    "classifier = SVC(kernel='linear')\n",
    "classifier"
   ]
  },
  {
   "cell_type": "markdown",
   "id": "63ab256b",
   "metadata": {},
   "source": [
    "Training the model using the trainig data"
   ]
  },
  {
   "cell_type": "code",
   "execution_count": 13,
   "id": "5feb4b68",
   "metadata": {},
   "outputs": [
    {
     "data": {
      "text/plain": [
       "SVC(kernel='linear')"
      ]
     },
     "execution_count": 13,
     "metadata": {},
     "output_type": "execute_result"
    }
   ],
   "source": [
    "classifier.fit(X_train, y_train)"
   ]
  },
  {
   "cell_type": "markdown",
   "id": "bf30f2d7",
   "metadata": {},
   "source": [
    "Making predictions for the test data"
   ]
  },
  {
   "cell_type": "code",
   "execution_count": 14,
   "id": "0acf95cd",
   "metadata": {},
   "outputs": [
    {
     "data": {
      "text/plain": [
       "array([0, 1, 1, 0, 1, 1, 1, 1, 0, 1, 1, 1, 1, 0, 1, 1, 1, 1, 1, 1])"
      ]
     },
     "execution_count": 14,
     "metadata": {},
     "output_type": "execute_result"
    }
   ],
   "source": [
    "y_pred = classifier.predict(X_test)\n",
    "y_pred"
   ]
  },
  {
   "cell_type": "code",
   "execution_count": 15,
   "id": "66f6865e",
   "metadata": {},
   "outputs": [
    {
     "data": {
      "text/plain": [
       "array([0, 1, 0, 0, 1, 0, 0, 0, 0, 1, 1, 1, 1, 0, 1, 1, 0, 1, 1, 0])"
      ]
     },
     "execution_count": 15,
     "metadata": {},
     "output_type": "execute_result"
    }
   ],
   "source": [
    "y_test"
   ]
  },
  {
   "cell_type": "markdown",
   "id": "83e7a440",
   "metadata": {},
   "source": [
    "Let us see the accuracy of the model"
   ]
  },
  {
   "cell_type": "code",
   "execution_count": 17,
   "id": "e3416703",
   "metadata": {},
   "outputs": [
    {
     "data": {
      "text/plain": [
       "0.7"
      ]
     },
     "execution_count": 17,
     "metadata": {},
     "output_type": "execute_result"
    }
   ],
   "source": [
    "from sklearn.metrics import accuracy_score\n",
    "\n",
    "accuracy_score(y_test, y_pred)"
   ]
  },
  {
   "cell_type": "markdown",
   "id": "d7a25c18",
   "metadata": {},
   "source": [
    "Which is a bad accuracy"
   ]
  },
  {
   "cell_type": "markdown",
   "id": "6813a0e0",
   "metadata": {},
   "source": [
    "Let us see the actual decision boundary with the dataset to visualize things"
   ]
  },
  {
   "cell_type": "markdown",
   "id": "da2d552d",
   "metadata": {},
   "source": [
    "Using ListedColormap"
   ]
  },
  {
   "cell_type": "code",
   "execution_count": 24,
   "id": "e4b87925",
   "metadata": {},
   "outputs": [],
   "source": [
    "from matplotlib.colors import ListedColormap\n",
    "\n",
    "import numpy as np"
   ]
  },
  {
   "cell_type": "code",
   "execution_count": 25,
   "id": "1481b203",
   "metadata": {},
   "outputs": [],
   "source": [
    "zero_one_colourmap = ListedColormap(('blue', 'red'))\n",
    "def plot_decision_boundary(X, y, clf):\n",
    "    X_set, y_set = X, y\n",
    "    X1, X2 = np.meshgrid(np.arange(start = X_set[:, 0].min() - 1, \n",
    "                                 stop = X_set[:, 0].max() + 1, \n",
    "                                 step = 0.01),\n",
    "                       np.arange(start = X_set[:, 1].min() - 1, \n",
    "                                 stop = X_set[:, 1].max() + 1, \n",
    "                                 step = 0.01))\n",
    "  \n",
    "    plt.contourf(X1, X2, clf.predict(np.array([X1.ravel(), \n",
    "                                             X2.ravel()]).T).reshape(X1.shape),\n",
    "               alpha = 0.75, \n",
    "               cmap = zero_one_colourmap)\n",
    "    plt.xlim(X1.min(), X1.max())\n",
    "    plt.ylim(X2.min(), X2.max())\n",
    "    for i, j in enumerate(np.unique(y_set)):\n",
    "        plt.scatter(X_set[y_set == j, 0], X_set[y_set == j, 1],\n",
    "                c = (zero_one_colourmap)(i), label = j)\n",
    "    plt.title('SVM Decision Boundary')\n",
    "    plt.xlabel('X1')\n",
    "    plt.ylabel('X2')\n",
    "    plt.legend()\n",
    "    return plt.show()"
   ]
  },
  {
   "cell_type": "code",
   "execution_count": 26,
   "id": "77a5f7ba",
   "metadata": {},
   "outputs": [
    {
     "name": "stderr",
     "output_type": "stream",
     "text": [
      "*c* argument looks like a single numeric RGB or RGBA sequence, which should be avoided as value-mapping will have precedence in case its length matches with *x* & *y*.  Please use the *color* keyword-argument or provide a 2D array with a single row if you intend to specify the same RGB or RGBA value for all points.\n",
      "*c* argument looks like a single numeric RGB or RGBA sequence, which should be avoided as value-mapping will have precedence in case its length matches with *x* & *y*.  Please use the *color* keyword-argument or provide a 2D array with a single row if you intend to specify the same RGB or RGBA value for all points.\n"
     ]
    },
    {
     "data": {
      "image/png": "[encoded data removed]",
      "text/plain": [
       "<Figure size 432x288 with 1 Axes>"
      ]
     },
     "metadata": {
      "needs_background": "light"
     },
     "output_type": "display_data"
    }
   ],
   "source": [
    "plot_decision_boundary(X, y, classifier)"
   ]
  },
  {
   "cell_type": "markdown",
   "id": "bd8385e5",
   "metadata": {},
   "source": [
    "We can cleary see the line could not seperate the blue dots to the left of it causing low accuracy of the model."
   ]
  },
  {
   "cell_type": "markdown",
   "id": "a291c817",
   "metadata": {},
   "source": [
    "# Using RBF (Radial Basis Function) Kernel"
   ]
  },
  {
   "cell_type": "markdown",
   "id": "f17c939c",
   "metadata": {},
   "source": [
    "Firstly let us visualise what the RBF Kernel transformation will look like\n",
    "\n",
    "which is using the exponential function below exp(-(X ** 2).sum(1)) to make the z axis.\n",
    "\n",
    "So a 2D problem becomes a 3D problem."
   ]
  },
  {
   "cell_type": "code",
   "execution_count": 28,
   "id": "4f08bb42",
   "metadata": {},
   "outputs": [],
   "source": [
    "def plot_3d_plot(X, y):\n",
    "    r = np.exp(-(X ** 2).sum(1))\n",
    "    ax = plt.subplot(projection='3d')\n",
    "    ax.scatter3D(X[:, 0], X[:, 1], r, c=y, s=100, cmap='bwr')\n",
    "    ax.set_xlabel('X1')\n",
    "    ax.set_ylabel('X2')\n",
    "    ax.set_zlabel('y')\n",
    "    return ax"
   ]
  },
  {
   "cell_type": "code",
   "execution_count": 29,
   "id": "15cc4af4",
   "metadata": {},
   "outputs": [
    {
     "data": {
      "text/plain": [
       "<Axes3DSubplot:xlabel='X1', ylabel='X2'>"
      ]
     },
     "execution_count": 29,
     "metadata": {},
     "output_type": "execute_result"
    },
    {
     "data": {
      "image/png": "[encoded data removed]",
      "text/plain": [
       "<Figure size 432x288 with 1 Axes>"
      ]
     },
     "metadata": {
      "needs_background": "light"
     },
     "output_type": "display_data"
    }
   ],
   "source": [
    "plot_3d_plot(X,y)"
   ]
  },
  {
   "cell_type": "markdown",
   "id": "6a76a9f3",
   "metadata": {},
   "source": [
    "So we can see now the data looks quite seperable.\n",
    "\n",
    "This could have been done automatically by the algorithm if we just train it by giving the hyper parameter kernel = 'rbf'\n",
    "\n",
    "Let us see that model"
   ]
  },
  {
   "cell_type": "code",
   "execution_count": 30,
   "id": "3ce35356",
   "metadata": {},
   "outputs": [],
   "source": [
    "rbf_classifier = SVC(kernel=\"rbf\")\n",
    "rbf_classifier.fit(X_train, y_train)\n",
    "y_pred = rbf_classifier.predict(X_test)"
   ]
  },
  {
   "cell_type": "code",
   "execution_count": 31,
   "id": "5a79ef94",
   "metadata": {},
   "outputs": [
    {
     "data": {
      "text/plain": [
       "1.0"
      ]
     },
     "execution_count": 31,
     "metadata": {},
     "output_type": "execute_result"
    }
   ],
   "source": [
    "accuracy_score(y_test, y_pred)"
   ]
  },
  {
   "cell_type": "markdown",
   "id": "bab39a01",
   "metadata": {},
   "source": [
    "So for the same training and test dataset this works like a magic and the algorithm accuracy reaches straight to 100%"
   ]
  },
  {
   "cell_type": "markdown",
   "id": "225936ec",
   "metadata": {},
   "source": [
    "Let us plot its decision boundary"
   ]
  },
  {
   "cell_type": "code",
   "execution_count": 33,
   "id": "7c53437c",
   "metadata": {},
   "outputs": [
    {
     "name": "stderr",
     "output_type": "stream",
     "text": [
      "*c* argument looks like a single numeric RGB or RGBA sequence, which should be avoided as value-mapping will have precedence in case its length matches with *x* & *y*.  Please use the *color* keyword-argument or provide a 2D array with a single row if you intend to specify the same RGB or RGBA value for all points.\n",
      "*c* argument looks like a single numeric RGB or RGBA sequence, which should be avoided as value-mapping will have precedence in case its length matches with *x* & *y*.  Please use the *color* keyword-argument or provide a 2D array with a single row if you intend to specify the same RGB or RGBA value for all points.\n"
     ]
    },
    {
     "data": {
      "image/png": "[encoded data removed]",
      "text/plain": [
       "<Figure size 432x288 with 1 Axes>"
      ]
     },
     "metadata": {
      "needs_background": "light"
     },
     "output_type": "display_data"
    }
   ],
   "source": [
    "plot_decision_boundary(X, y, rbf_classifier)"
   ]
  },
  {
   "cell_type": "markdown",
   "id": "904181a3",
   "metadata": {},
   "source": [
    "We can see the decision boundary easily divides data points in a well manner"
   ]
  },
  {
   "cell_type": "markdown",
   "id": "4211a305",
   "metadata": {},
   "source": [
    "# Using Polynomial kernel"
   ]
  },
  {
   "cell_type": "markdown",
   "id": "62df1137",
   "metadata": {},
   "source": [
    "Using a polynomial kernel of degree 2"
   ]
  },
  {
   "cell_type": "code",
   "execution_count": 34,
   "id": "cafa2a3d",
   "metadata": {},
   "outputs": [],
   "source": [
    "poly_classifier = SVC(kernel=\"poly\",degree=2)\n",
    "poly_classifier.fit(X_train, y_train)\n",
    "y_pred = poly_classifier.predict(X_test)"
   ]
  },
  {
   "cell_type": "code",
   "execution_count": 35,
   "id": "2f405ca5",
   "metadata": {},
   "outputs": [
    {
     "data": {
      "text/plain": [
       "1.0"
      ]
     },
     "execution_count": 35,
     "metadata": {},
     "output_type": "execute_result"
    }
   ],
   "source": [
    "accuracy_score(y_test, y_pred)"
   ]
  },
  {
   "cell_type": "code",
   "execution_count": 37,
   "id": "5c339918",
   "metadata": {},
   "outputs": [
    {
     "name": "stderr",
     "output_type": "stream",
     "text": [
      "*c* argument looks like a single numeric RGB or RGBA sequence, which should be avoided as value-mapping will have precedence in case its length matches with *x* & *y*.  Please use the *color* keyword-argument or provide a 2D array with a single row if you intend to specify the same RGB or RGBA value for all points.\n",
      "*c* argument looks like a single numeric RGB or RGBA sequence, which should be avoided as value-mapping will have precedence in case its length matches with *x* & *y*.  Please use the *color* keyword-argument or provide a 2D array with a single row if you intend to specify the same RGB or RGBA value for all points.\n"
     ]
    },
    {
     "data": {
      "image/png": "[encoded data removed]",
      "text/plain": [
       "<Figure size 432x288 with 1 Axes>"
      ]
     },
     "metadata": {
      "needs_background": "light"
     },
     "output_type": "display_data"
    }
   ],
   "source": [
    "plot_decision_boundary(X, y, poly_classifier)"
   ]
  },
  {
   "cell_type": "markdown",
   "id": "41f10135",
   "metadata": {},
   "source": [
    "Polynomial classifier is also able to classify the data well with 100% accuracy.\n",
    "\n",
    "The hyperparameter degree can be chosen by using cross validation techniques such as GridSearchCV"
   ]
  },
  {
   "cell_type": "markdown",
   "id": "8a5441af",
   "metadata": {},
   "source": [
    "# Hyperparameter Tuning\n",
    "\n",
    "Let us do cross validation to see what degree works best. (hyper parameter tuning)"
   ]
  },
  {
   "cell_type": "code",
   "execution_count": 67,
   "id": "a14e6be3",
   "metadata": {},
   "outputs": [],
   "source": [
    "from sklearn.model_selection import GridSearchCV"
   ]
  },
  {
   "cell_type": "code",
   "execution_count": 68,
   "id": "189fbc98",
   "metadata": {},
   "outputs": [],
   "source": [
    "poly_classifier = SVC()"
   ]
  },
  {
   "cell_type": "markdown",
   "id": "df26594c",
   "metadata": {},
   "source": [
    "Setting parameter grid to choose the parameters:"
   ]
  },
  {
   "cell_type": "code",
   "execution_count": 69,
   "id": "e9e46abb",
   "metadata": {},
   "outputs": [],
   "source": [
    "param_grid = {\"degree\" : [1,2,3,4,5,6]}"
   ]
  },
  {
   "cell_type": "code",
   "execution_count": 70,
   "id": "0b2ef26c",
   "metadata": {},
   "outputs": [],
   "source": [
    "CV = GridSearchCV(poly_classifier, param_grid, cv = 5)"
   ]
  },
  {
   "cell_type": "markdown",
   "id": "8f4431ec",
   "metadata": {},
   "source": [
    "Applying the cross validation onto the training datasets"
   ]
  },
  {
   "cell_type": "code",
   "execution_count": 71,
   "id": "281a7d0a",
   "metadata": {},
   "outputs": [
    {
     "data": {
      "text/plain": [
       "GridSearchCV(cv=5, estimator=SVC(), param_grid={'degree': [1, 2, 3, 4, 5, 6]})"
      ]
     },
     "execution_count": 71,
     "metadata": {},
     "output_type": "execute_result"
    }
   ],
   "source": [
    "CV.fit(X_train, y_train)"
   ]
  },
  {
   "cell_type": "code",
   "execution_count": 80,
   "id": "30e9b07c",
   "metadata": {},
   "outputs": [
    {
     "data": {
      "text/plain": [
       "{'kernel': 'rbf'}"
      ]
     },
     "execution_count": 80,
     "metadata": {},
     "output_type": "execute_result"
    }
   ],
   "source": [
    "CV.best_params_"
   ]
  },
  {
   "cell_type": "markdown",
   "id": "cfc671d3",
   "metadata": {},
   "source": [
    "Hence, the model is giving the best estimator as degree = 1"
   ]
  },
  {
   "cell_type": "code",
   "execution_count": 73,
   "id": "92dd3be9",
   "metadata": {},
   "outputs": [],
   "source": [
    "y_pred = CV.predict(X_test)"
   ]
  },
  {
   "cell_type": "code",
   "execution_count": 74,
   "id": "43bfd6ea",
   "metadata": {},
   "outputs": [
    {
     "data": {
      "text/plain": [
       "1.0"
      ]
     },
     "execution_count": 74,
     "metadata": {},
     "output_type": "execute_result"
    }
   ],
   "source": [
    "accuracy_score(y_test, y_pred)"
   ]
  },
  {
   "cell_type": "markdown",
   "id": "f3f22acc",
   "metadata": {},
   "source": [
    "So here we are able to get 100% accuracy."
   ]
  },
  {
   "cell_type": "markdown",
   "id": "2fd09651",
   "metadata": {},
   "source": [
    "Let us add kernel also so we get to know which kernel to use as a hyperparameter"
   ]
  },
  {
   "cell_type": "code",
   "execution_count": 77,
   "id": "1f89becd",
   "metadata": {},
   "outputs": [],
   "source": [
    "param_grid = {\"kernel\" : ['linear', 'rbf', 'poly', 'sigmoid']}\n",
    "classifier = SVC()\n",
    "CV = GridSearchCV(classifier, param_grid, cv = 5)\n",
    "CV.fit(X_train, y_train)\n",
    "best_kernel = CV.best_params_['kernel']"
   ]
  },
  {
   "cell_type": "code",
   "execution_count": 78,
   "id": "e8e048e2",
   "metadata": {},
   "outputs": [
    {
     "data": {
      "text/plain": [
       "'rbf'"
      ]
     },
     "execution_count": 78,
     "metadata": {},
     "output_type": "execute_result"
    }
   ],
   "source": [
    "best_kernel"
   ]
  },
  {
   "cell_type": "code",
   "execution_count": null,
   "id": "6a1c0156",
   "metadata": {},
   "outputs": [],
   "source": []
  }
 ],
 "metadata": {
  "kernelspec": {
   "display_name": "Python 3 (ipykernel)",
   "language": "python",
   "name": "python3"
  },
  "language_info": {
   "codemirror_mode": {
    "name": "ipython",
    "version": 3
   },
   "file_extension": ".py",
   "mimetype": "text/x-python",
   "name": "python",
   "nbconvert_exporter": "python",
   "pygments_lexer": "ipython3",
   "version": "3.9.12"
  }
 },
 "nbformat": 4,
 "nbformat_minor": 5
}
